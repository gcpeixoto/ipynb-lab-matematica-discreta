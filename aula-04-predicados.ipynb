{
 "cells": [
  {
   "cell_type": "code",
   "execution_count": 1,
   "metadata": {},
   "outputs": [],
   "source": [
    "import numpy as np \n",
    "import matplotlib.pyplot as plt\n",
    "%matplotlib inline "
   ]
  },
  {
   "cell_type": "markdown",
   "metadata": {},
   "source": [
    "# Formação de padrões por predicados\n",
    "\n",
    "## Definindo predicados arbitrários"
   ]
  },
  {
   "cell_type": "markdown",
   "metadata": {},
   "source": [
    "Consideremos a seguinte função proposicional: $P_1(x): x > 3$\n",
    "\n",
    "Em seguida, consideremos a seguinte atribuição de valores-verdade:"
   ]
  },
  {
   "cell_type": "code",
   "execution_count": 2,
   "metadata": {},
   "outputs": [],
   "source": [
    "def P1(x):    \n",
    "    if x > 3:\n",
    "        return True\n",
    "    elif x <= 3:\n",
    "        return False\n",
    "    else:\n",
    "        return None "
   ]
  },
  {
   "cell_type": "markdown",
   "metadata": {},
   "source": [
    "Consideremos uma segunda função proposicional: $P_2(y): y > 5$. \n",
    "\n",
    "Da mesma forma, definamos valores-verdade para ela como: "
   ]
  },
  {
   "cell_type": "code",
   "execution_count": 3,
   "metadata": {},
   "outputs": [],
   "source": [
    "def P2(y):    \n",
    "    if y < 5:\n",
    "        return True\n",
    "    elif y >= 5:\n",
    "        return False\n",
    "    else:\n",
    "        return None "
   ]
  },
  {
   "cell_type": "markdown",
   "metadata": {},
   "source": [
    "## Avaliando predicados \n",
    "\n",
    "Vamos gerar números inteiros aleatórios, avaliar os predicados anteriores individualmente e plotar seus valores. \n",
    "\n",
    "**Passo 1**: geração aleatória de inteiros. "
   ]
  },
  {
   "cell_type": "code",
   "execution_count": 4,
   "metadata": {},
   "outputs": [],
   "source": [
    "n = 40 # número de amostras \n",
    "imin,imax = 0,10 # mínimo/máximo inteiro da geração\n",
    "I1 = np.random.randint(imin,imax,n)"
   ]
  },
  {
   "cell_type": "markdown",
   "metadata": {},
   "source": [
    "O _array_ `I1` possui $n$ inteiros entre `[imin,imax]`."
   ]
  },
  {
   "cell_type": "code",
   "execution_count": 5,
   "metadata": {},
   "outputs": [
    {
     "data": {
      "text/plain": [
       "array([0, 6, 7, 9, 6, 6, 7, 6, 4, 1, 7, 3, 3, 5, 3, 4, 0, 4, 8, 5, 5, 8,\n",
       "       8, 2, 1, 6, 4, 5, 6, 9, 0, 7, 7, 7, 5, 4, 7, 2, 7, 3])"
      ]
     },
     "execution_count": 5,
     "metadata": {},
     "output_type": "execute_result"
    }
   ],
   "source": [
    "I1"
   ]
  },
  {
   "cell_type": "markdown",
   "metadata": {},
   "source": [
    "**Passo 2**: avaliação dos predicados"
   ]
  },
  {
   "cell_type": "code",
   "execution_count": 6,
   "metadata": {},
   "outputs": [],
   "source": [
    "V1,V2 = [],[] # listas auxiliares\n",
    "\n",
    "for x in I1:\n",
    "    #print('x = %d, P1(x) = %r' % (x,P1(x)) ) # v-v\n",
    "    V1.append(P1(x)) # preenche lista\n",
    "\n",
    "for y in I1:    \n",
    "    #print('y = %d, P2(y) = %r' % (x,P2(y)) ) # v-v\n",
    "    V2.append(P2(y)) # preenche lista"
   ]
  },
  {
   "cell_type": "markdown",
   "metadata": {},
   "source": [
    "**Passo 3**: plotagem \"binária\"."
   ]
  },
  {
   "cell_type": "code",
   "execution_count": 7,
   "metadata": {},
   "outputs": [
    {
     "data": {
      "image/png": "[encoded data removed]",
      "text/plain": [
       "<Figure size 432x288 with 2 Axes>"
      ]
     },
     "metadata": {
      "needs_background": "light"
     },
     "output_type": "display_data"
    }
   ],
   "source": [
    "plt.subplot(211)\n",
    "plt.ylabel('$P_1(x)$')\n",
    "plt.plot(I1,V1,'ro'); \n",
    "\n",
    "plt.subplot(212)\n",
    "plt.ylabel('$P_2(y)$')\n",
    "plt.plot(I1,V2,'bd');"
   ]
  },
  {
   "cell_type": "markdown",
   "metadata": {},
   "source": [
    "## Predicado com duas variáveis\n",
    "\n",
    "Vamos definir o seguinte predicado: $P_3(x,y): P_1(x) \\wedge P_2(y)$."
   ]
  },
  {
   "cell_type": "code",
   "execution_count": 8,
   "metadata": {},
   "outputs": [],
   "source": [
    "# predicado conjunção \n",
    "def P3_and(x,y):\n",
    "    if P1(x) is True and P2(y) is True:\n",
    "        return True\n",
    "    elif P1(x) is True and P2(y) is False:\n",
    "        return False\n",
    "    elif P1(x) is False and P2(y) is True:\n",
    "        return False\n",
    "    elif P1(x) is False and P2(y) is False:\n",
    "        return False"
   ]
  },
  {
   "cell_type": "markdown",
   "metadata": {},
   "source": [
    "## Formação de padrão\n",
    "\n",
    "Faremos agora uma plotagem de uma imagem monocromática que representará o padrão \n",
    "para o predicado $P_3(x,y)$ que definimos anteriormente. "
   ]
  },
  {
   "cell_type": "code",
   "execution_count": 9,
   "metadata": {},
   "outputs": [
    {
     "data": {
      "image/png": "[encoded data removed]",
      "text/plain": [
       "<Figure size 432x288 with 1 Axes>"
      ]
     },
     "metadata": {
      "needs_background": "light"
     },
     "output_type": "display_data"
    }
   ],
   "source": [
    "V3 = np.zeros((n,n))\n",
    "for i in range(I1.size):\n",
    "    for j in range(I1.size):\n",
    "        v = P3_and( I1[i], I1[j] )\n",
    "        #print('x = %d, y = %d, P1(x) or P2(y) = %r' % (x,y,v))\n",
    "        V3[i,j] = v\n",
    "        \n",
    "plt.title('Padrão $P_3(x,y): P_1(x) \\wedge P_2(y)$')\n",
    "plt.imshow(V3,origin='lower',cmap='bone'); "
   ]
  },
  {
   "cell_type": "markdown",
   "metadata": {},
   "source": [
    "### Exercícios\n",
    "\n",
    "1. Modifique as definições dos predicados individuais e gere novos padrões para $P_3$\n",
    "2. Aumente o número de amostras $n$ e verifique como os padrões se alteram. Note que os padrões gerados são aleatórios. \n",
    "3. Construa os predicados de duas variáveis para os operadores lógicos $\\vee$, $\\oplus$, $\\rightarrow$ e $\\leftrightarrow$.\n",
    "4. Desenvolva um pequeno módulo Python para geração de padrões com definições lógicas e tamanhos de seu interesse. "
   ]
  }
 ],
 "metadata": {
  "kernelspec": {
   "display_name": "Python 3",
   "language": "python",
   "name": "python3"
  },
  "language_info": {
   "codemirror_mode": {
    "name": "ipython",
    "version": 3
   },
   "file_extension": ".py",
   "mimetype": "text/x-python",
   "name": "python",
   "nbconvert_exporter": "python",
   "pygments_lexer": "ipython3",
   "version": "3.7.3"
  }
 },
 "nbformat": 4,
 "nbformat_minor": 2
}
