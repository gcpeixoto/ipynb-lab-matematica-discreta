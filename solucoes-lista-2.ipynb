{
 "cells": [
  {
   "cell_type": "markdown",
   "metadata": {},
   "source": [
    "## Lista de Exercícios 2 \n",
    "\n",
    "Questões selecionadas da L2."
   ]
  },
  {
   "cell_type": "code",
   "execution_count": 1,
   "metadata": {},
   "outputs": [],
   "source": [
    "import ttg # importa o módulo truth-table-generator "
   ]
  },
  {
   "cell_type": "markdown",
   "metadata": {},
   "source": [
    "## Bloco: Exercícios 27 e 28, pp. 16 - 19, Rosen."
   ]
  },
  {
   "cell_type": "markdown",
   "metadata": {},
   "source": [
    "**Exercício 27.** Construa uma tabela-verdade para cada uma destas proposições compostas. \n",
    "\n",
    "a)"
   ]
  },
  {
   "cell_type": "code",
   "execution_count": 2,
   "metadata": {},
   "outputs": [
    {
     "name": "stdout",
     "output_type": "stream",
     "text": [
      "+-------+-------+------------+\n",
      "|   p   |   q   |  p and ~q  |\n",
      "|-------+-------+------------|\n",
      "| True  | True  |   False    |\n",
      "| True  | False |    True    |\n",
      "| False | True  |   False    |\n",
      "| False | False |   False    |\n",
      "+-------+-------+------------+\n"
     ]
    }
   ],
   "source": [
    "print(ttg.Truths(['p','q'],['p and ~q'],ints=False))"
   ]
  },
  {
   "cell_type": "markdown",
   "metadata": {},
   "source": [
    "b)"
   ]
  },
  {
   "cell_type": "code",
   "execution_count": 3,
   "metadata": {},
   "outputs": [
    {
     "name": "stdout",
     "output_type": "stream",
     "text": [
      "+-------+-------+-----------+\n",
      "|   p   |   q   |  p or ~q  |\n",
      "|-------+-------+-----------|\n",
      "| True  | True  |   True    |\n",
      "| True  | False |   True    |\n",
      "| False | True  |   False   |\n",
      "| False | False |   True    |\n",
      "+-------+-------+-----------+\n"
     ]
    }
   ],
   "source": [
    "print(ttg.Truths(['p','q'],['p or ~q'],ints=False))"
   ]
  },
  {
   "cell_type": "markdown",
   "metadata": {},
   "source": [
    "c)"
   ]
  },
  {
   "cell_type": "code",
   "execution_count": 4,
   "metadata": {},
   "outputs": [
    {
     "name": "stdout",
     "output_type": "stream",
     "text": [
      "+-------+-------+------------------+\n",
      "|   p   |   q   |  (p or ~q) => q  |\n",
      "|-------+-------+------------------|\n",
      "| True  | True  |       True       |\n",
      "| True  | False |      False       |\n",
      "| False | True  |       True       |\n",
      "| False | False |       True       |\n",
      "+-------+-------+------------------+\n"
     ]
    }
   ],
   "source": [
    "print(ttg.Truths(['p','q'],['(p or ~q) => q'],ints=False))"
   ]
  },
  {
   "cell_type": "markdown",
   "metadata": {},
   "source": [
    "d)"
   ]
  },
  {
   "cell_type": "code",
   "execution_count": 5,
   "metadata": {},
   "outputs": [
    {
     "name": "stdout",
     "output_type": "stream",
     "text": [
      "+-------+-------+-------------------------+\n",
      "|   p   |   q   |  (p or q) => (p and q)  |\n",
      "|-------+-------+-------------------------|\n",
      "| True  | True  |          True           |\n",
      "| True  | False |          False          |\n",
      "| False | True  |          False          |\n",
      "| False | False |          True           |\n",
      "+-------+-------+-------------------------+\n"
     ]
    }
   ],
   "source": [
    "print(ttg.Truths(['p','q'],['(p or q) => (p and q)'],ints=False))"
   ]
  },
  {
   "cell_type": "markdown",
   "metadata": {},
   "source": [
    "e)"
   ]
  },
  {
   "cell_type": "code",
   "execution_count": 6,
   "metadata": {},
   "outputs": [
    {
     "name": "stdout",
     "output_type": "stream",
     "text": [
      "+-------+-------+-----------------------+\n",
      "|   p   |   q   |  (p => q) = ~q => ~p  |\n",
      "|-------+-------+-----------------------|\n",
      "| True  | True  |         False         |\n",
      "| True  | False |         False         |\n",
      "| False | True  |         False         |\n",
      "| False | False |         True          |\n",
      "+-------+-------+-----------------------+\n"
     ]
    }
   ],
   "source": [
    "print(ttg.Truths(['p','q'],['(p => q) = ~q => ~p'],ints=False))"
   ]
  },
  {
   "cell_type": "markdown",
   "metadata": {},
   "source": [
    "f)"
   ]
  },
  {
   "cell_type": "code",
   "execution_count": 7,
   "metadata": {},
   "outputs": [
    {
     "name": "stdout",
     "output_type": "stream",
     "text": [
      "+-------+-------+------------------------+\n",
      "|   p   |   q   |  (p => q) => (q => p)  |\n",
      "|-------+-------+------------------------|\n",
      "| True  | True  |          True          |\n",
      "| True  | False |          True          |\n",
      "| False | True  |         False          |\n",
      "| False | False |          True          |\n",
      "+-------+-------+------------------------+\n"
     ]
    }
   ],
   "source": [
    "print(ttg.Truths(['p','q'],['(p => q) => (q => p)'],ints=False))"
   ]
  },
  {
   "cell_type": "markdown",
   "metadata": {},
   "source": [
    "**Exercício 28.** Construa uma tabela-verdade para cada uma destas proposições compostas. \n",
    "\n",
    "a)"
   ]
  },
  {
   "cell_type": "code",
   "execution_count": 8,
   "metadata": {},
   "outputs": [
    {
     "name": "stdout",
     "output_type": "stream",
     "text": [
      "+-------+-------+-----------+\n",
      "|   p   |   q   |  p => ~q  |\n",
      "|-------+-------+-----------|\n",
      "| True  | True  |   False   |\n",
      "| True  | False |   True    |\n",
      "| False | True  |   True    |\n",
      "| False | False |   True    |\n",
      "+-------+-------+-----------+\n"
     ]
    }
   ],
   "source": [
    "print(ttg.Truths(['p','q'],['p => ~q'],ints=False))"
   ]
  },
  {
   "cell_type": "markdown",
   "metadata": {},
   "source": [
    "b)"
   ]
  },
  {
   "cell_type": "code",
   "execution_count": 9,
   "metadata": {},
   "outputs": [
    {
     "name": "stdout",
     "output_type": "stream",
     "text": [
      "+-------+-------+----------+\n",
      "|   p   |   q   |  p = ~q  |\n",
      "|-------+-------+----------|\n",
      "| True  | True  |  False   |\n",
      "| True  | False |   True   |\n",
      "| False | True  |   True   |\n",
      "| False | False |  False   |\n",
      "+-------+-------+----------+\n"
     ]
    }
   ],
   "source": [
    "print(ttg.Truths(['p','q'],['p = ~q'],ints=False))"
   ]
  },
  {
   "cell_type": "markdown",
   "metadata": {},
   "source": [
    "c)"
   ]
  },
  {
   "cell_type": "code",
   "execution_count": 10,
   "metadata": {},
   "outputs": [
    {
     "name": "stdout",
     "output_type": "stream",
     "text": [
      "+-------+-------+------------------+\n",
      "|   p   |   q   |  p xor (p or q)  |\n",
      "|-------+-------+------------------|\n",
      "| True  | True  |      False       |\n",
      "| True  | False |      False       |\n",
      "| False | True  |       True       |\n",
      "| False | False |      False       |\n",
      "+-------+-------+------------------+\n"
     ]
    }
   ],
   "source": [
    "print(ttg.Truths(['p','q'],['p xor (p or q)'],ints=False))"
   ]
  },
  {
   "cell_type": "markdown",
   "metadata": {},
   "source": [
    "d)"
   ]
  },
  {
   "cell_type": "code",
   "execution_count": 11,
   "metadata": {},
   "outputs": [
    {
     "name": "stdout",
     "output_type": "stream",
     "text": [
      "+-------+-------+-------------------------+\n",
      "|   p   |   q   |  (p and q) => (p or q)  |\n",
      "|-------+-------+-------------------------|\n",
      "| True  | True  |          True           |\n",
      "| True  | False |          True           |\n",
      "| False | True  |          True           |\n",
      "| False | False |          True           |\n",
      "+-------+-------+-------------------------+\n"
     ]
    }
   ],
   "source": [
    "print(ttg.Truths(['p','q'],['(p and q) => (p or q)'],ints=False))"
   ]
  },
  {
   "cell_type": "markdown",
   "metadata": {},
   "source": [
    "e)"
   ]
  },
  {
   "cell_type": "code",
   "execution_count": 12,
   "metadata": {},
   "outputs": [
    {
     "name": "stdout",
     "output_type": "stream",
     "text": [
      "+-------+-------+-----------------------+\n",
      "|   p   |   q   |  (q => ~p) = (p = q)  |\n",
      "|-------+-------+-----------------------|\n",
      "| True  | True  |         False         |\n",
      "| True  | False |         False         |\n",
      "| False | True  |         False         |\n",
      "| False | False |         True          |\n",
      "+-------+-------+-----------------------+\n"
     ]
    }
   ],
   "source": [
    "print(ttg.Truths(['p','q'],['(q => ~p) = (p = q)'],ints=False))"
   ]
  },
  {
   "cell_type": "markdown",
   "metadata": {},
   "source": [
    "f)"
   ]
  },
  {
   "cell_type": "code",
   "execution_count": 13,
   "metadata": {},
   "outputs": [
    {
     "name": "stdout",
     "output_type": "stream",
     "text": [
      "+-------+-------+------------------------+\n",
      "|   p   |   q   |  (p = q) xor (p = ~q)  |\n",
      "|-------+-------+------------------------|\n",
      "| True  | True  |          True          |\n",
      "| True  | False |          True          |\n",
      "| False | True  |          True          |\n",
      "| False | False |          True          |\n",
      "+-------+-------+------------------------+\n"
     ]
    }
   ],
   "source": [
    "print(ttg.Truths(['p','q'],['(p = q) xor (p = ~q)'],ints=False))"
   ]
  },
  {
   "cell_type": "markdown",
   "metadata": {},
   "source": [
    "## Bloco: Exercícios 5, 9 e 31, pp. 28 - 29, Rosen.\n",
    "\n",
    "**Exercício 5.** Use a tabela-verdade para verificar a propriedade distributiva.\n",
    "\n",
    "$p \\wedge (q \\vee r) \\equiv (p \\wedge q) \\vee (p \\wedge r)$"
   ]
  },
  {
   "cell_type": "code",
   "execution_count": 14,
   "metadata": {},
   "outputs": [
    {
     "name": "stdout",
     "output_type": "stream",
     "text": [
      "+-------+-------+-------+------------------+\n",
      "|   p   |   q   |   r   |  p and (q or r)  |\n",
      "|-------+-------+-------+------------------|\n",
      "| True  | True  | True  |       True       |\n",
      "| True  | True  | False |       True       |\n",
      "| True  | False | True  |       True       |\n",
      "| True  | False | False |      False       |\n",
      "| False | True  | True  |      False       |\n",
      "| False | True  | False |      False       |\n",
      "| False | False | True  |      False       |\n",
      "| False | False | False |      False       |\n",
      "+-------+-------+-------+------------------+\n"
     ]
    }
   ],
   "source": [
    "# lado esquerdo\n",
    "print(ttg.Truths(['p','q','r'],['p and (q or r)'],ints=False))"
   ]
  },
  {
   "cell_type": "code",
   "execution_count": 15,
   "metadata": {},
   "outputs": [
    {
     "name": "stdout",
     "output_type": "stream",
     "text": [
      "+-------+-------+-------+--------------------------+\n",
      "|   p   |   q   |   r   |  (p and q) or (p and r)  |\n",
      "|-------+-------+-------+--------------------------|\n",
      "| True  | True  | True  |           True           |\n",
      "| True  | True  | False |           True           |\n",
      "| True  | False | True  |           True           |\n",
      "| True  | False | False |          False           |\n",
      "| False | True  | True  |          False           |\n",
      "| False | True  | False |          False           |\n",
      "| False | False | True  |          False           |\n",
      "| False | False | False |          False           |\n",
      "+-------+-------+-------+--------------------------+\n"
     ]
    }
   ],
   "source": [
    "# lado direito\n",
    "print(ttg.Truths(['p','q','r'],['(p and q) or (p and r)'],ints=False))"
   ]
  },
  {
   "cell_type": "markdown",
   "metadata": {},
   "source": [
    "**Exercício 9.** Mostre que cada uma das proposições a seguir é uma tautologia usando a tabela-verdade.\n",
    "\n",
    "Use `tbl.valuation(-1)`\n",
    "\n",
    "a)"
   ]
  },
  {
   "cell_type": "code",
   "execution_count": 16,
   "metadata": {},
   "outputs": [
    {
     "name": "stdout",
     "output_type": "stream",
     "text": [
      "+-------+-------+------------------+\n",
      "|   p   |   q   |  (p and q) => p  |\n",
      "|-------+-------+------------------|\n",
      "| True  | True  |       True       |\n",
      "| True  | False |       True       |\n",
      "| False | True  |       True       |\n",
      "| False | False |       True       |\n",
      "+-------+-------+------------------+\n"
     ]
    },
    {
     "data": {
      "text/plain": [
       "'Tautology'"
      ]
     },
     "execution_count": 16,
     "metadata": {},
     "output_type": "execute_result"
    }
   ],
   "source": [
    "tbl = ttg.Truths(['p','q',],['(p and q) => p'],ints=False)\n",
    "print(tbl) \n",
    "tbl.valuation(-1)"
   ]
  },
  {
   "cell_type": "markdown",
   "metadata": {},
   "source": [
    "b)"
   ]
  },
  {
   "cell_type": "code",
   "execution_count": 17,
   "metadata": {},
   "outputs": [
    {
     "name": "stdout",
     "output_type": "stream",
     "text": [
      "+-------+-------+-----------------+\n",
      "|   p   |   q   |  p => (p or q)  |\n",
      "|-------+-------+-----------------|\n",
      "| True  | True  |      True       |\n",
      "| True  | False |      True       |\n",
      "| False | True  |      True       |\n",
      "| False | False |      True       |\n",
      "+-------+-------+-----------------+\n"
     ]
    },
    {
     "data": {
      "text/plain": [
       "'Tautology'"
      ]
     },
     "execution_count": 17,
     "metadata": {},
     "output_type": "execute_result"
    }
   ],
   "source": [
    "tbl = ttg.Truths(['p','q',],['p => (p or q)'],ints=False)\n",
    "print(tbl) \n",
    "tbl.valuation(-1)"
   ]
  },
  {
   "cell_type": "markdown",
   "metadata": {},
   "source": [
    "c)"
   ]
  },
  {
   "cell_type": "code",
   "execution_count": 18,
   "metadata": {},
   "outputs": [
    {
     "name": "stdout",
     "output_type": "stream",
     "text": [
      "+-------+-------+------------------+\n",
      "|   p   |   q   |  ~p => (p => q)  |\n",
      "|-------+-------+------------------|\n",
      "| True  | True  |       True       |\n",
      "| True  | False |       True       |\n",
      "| False | True  |       True       |\n",
      "| False | False |       True       |\n",
      "+-------+-------+------------------+\n"
     ]
    },
    {
     "data": {
      "text/plain": [
       "'Tautology'"
      ]
     },
     "execution_count": 18,
     "metadata": {},
     "output_type": "execute_result"
    }
   ],
   "source": [
    "tbl = ttg.Truths(['p','q',],['~p => (p => q)'],ints=False)\n",
    "print(tbl) \n",
    "tbl.valuation(-1)"
   ]
  },
  {
   "cell_type": "markdown",
   "metadata": {},
   "source": [
    "d)"
   ]
  },
  {
   "cell_type": "code",
   "execution_count": 19,
   "metadata": {},
   "outputs": [
    {
     "name": "stdout",
     "output_type": "stream",
     "text": [
      "+-------+-------+-------------------------+\n",
      "|   p   |   q   |  (p and q) => (p => q)  |\n",
      "|-------+-------+-------------------------|\n",
      "| True  | True  |          True           |\n",
      "| True  | False |          True           |\n",
      "| False | True  |          True           |\n",
      "| False | False |          True           |\n",
      "+-------+-------+-------------------------+\n"
     ]
    },
    {
     "data": {
      "text/plain": [
       "'Tautology'"
      ]
     },
     "execution_count": 19,
     "metadata": {},
     "output_type": "execute_result"
    }
   ],
   "source": [
    "tbl = ttg.Truths(['p','q',],['(p and q) => (p => q)'],ints=False)\n",
    "print(tbl) \n",
    "tbl.valuation(-1)"
   ]
  },
  {
   "cell_type": "markdown",
   "metadata": {},
   "source": [
    "e)"
   ]
  },
  {
   "cell_type": "code",
   "execution_count": 20,
   "metadata": {},
   "outputs": [
    {
     "name": "stdout",
     "output_type": "stream",
     "text": [
      "+-------+-------+------------------+\n",
      "|   p   |   q   |  ~(p => q) => p  |\n",
      "|-------+-------+------------------|\n",
      "| True  | True  |       True       |\n",
      "| True  | False |       True       |\n",
      "| False | True  |       True       |\n",
      "| False | False |       True       |\n",
      "+-------+-------+------------------+\n"
     ]
    },
    {
     "data": {
      "text/plain": [
       "'Tautology'"
      ]
     },
     "execution_count": 20,
     "metadata": {},
     "output_type": "execute_result"
    }
   ],
   "source": [
    "tbl = ttg.Truths(['p','q',],['~(p => q) => p'],ints=False)\n",
    "print(tbl) \n",
    "tbl.valuation(-1)"
   ]
  },
  {
   "cell_type": "markdown",
   "metadata": {},
   "source": [
    "f)"
   ]
  },
  {
   "cell_type": "code",
   "execution_count": 21,
   "metadata": {},
   "outputs": [
    {
     "name": "stdout",
     "output_type": "stream",
     "text": [
      "+-------+-------+-------------------+\n",
      "|   p   |   q   |  ~(p => q) => ~q  |\n",
      "|-------+-------+-------------------|\n",
      "| True  | True  |       True        |\n",
      "| True  | False |       True        |\n",
      "| False | True  |       True        |\n",
      "| False | False |       True        |\n",
      "+-------+-------+-------------------+\n"
     ]
    },
    {
     "data": {
      "text/plain": [
       "'Tautology'"
      ]
     },
     "execution_count": 21,
     "metadata": {},
     "output_type": "execute_result"
    }
   ],
   "source": [
    "tbl = ttg.Truths(['p','q',],['~(p => q) => ~q'],ints=False)\n",
    "print(tbl) \n",
    "tbl.valuation(-1)"
   ]
  },
  {
   "cell_type": "markdown",
   "metadata": {},
   "source": [
    "**Exercício 31.** Mostre que $(p \\rightarrow q) \\rightarrow r \\not\\equiv p \\rightarrow (q \\rightarrow r)$"
   ]
  },
  {
   "cell_type": "code",
   "execution_count": 22,
   "metadata": {},
   "outputs": [
    {
     "name": "stdout",
     "output_type": "stream",
     "text": [
      "+-------+-------+-------+-----------------+\n",
      "|   p   |   q   |   r   |  (p => q) => r  |\n",
      "|-------+-------+-------+-----------------|\n",
      "| True  | True  | True  |      True       |\n",
      "| True  | True  | False |      False      |\n",
      "| True  | False | True  |      True       |\n",
      "| True  | False | False |      True       |\n",
      "| False | True  | True  |      True       |\n",
      "| False | True  | False |      False      |\n",
      "| False | False | True  |      True       |\n",
      "| False | False | False |      False      |\n",
      "+-------+-------+-------+-----------------+\n"
     ]
    }
   ],
   "source": [
    "# lado esquerdo \n",
    "print(ttg.Truths(['p','q','r'],['(p => q) => r'],ints=False))"
   ]
  },
  {
   "cell_type": "code",
   "execution_count": 23,
   "metadata": {},
   "outputs": [
    {
     "name": "stdout",
     "output_type": "stream",
     "text": [
      "+-------+-------+-------+-----------------+\n",
      "|   p   |   q   |   r   |  p => (q => r)  |\n",
      "|-------+-------+-------+-----------------|\n",
      "| True  | True  | True  |      True       |\n",
      "| True  | True  | False |      False      |\n",
      "| True  | False | True  |      True       |\n",
      "| True  | False | False |      True       |\n",
      "| False | True  | True  |      True       |\n",
      "| False | True  | False |      True       |\n",
      "| False | False | True  |      True       |\n",
      "| False | False | False |      True       |\n",
      "+-------+-------+-------+-----------------+\n"
     ]
    }
   ],
   "source": [
    "# lado direito \n",
    "print(ttg.Truths(['p','q','r'],['p => (q => r)'],ints=False))"
   ]
  }
 ],
 "metadata": {
  "kernelspec": {
   "display_name": "Python 3",
   "language": "python",
   "name": "python3"
  },
  "language_info": {
   "codemirror_mode": {
    "name": "ipython",
    "version": 3
   },
   "file_extension": ".py",
   "mimetype": "text/x-python",
   "name": "python",
   "nbconvert_exporter": "python",
   "pygments_lexer": "ipython3",
   "version": "3.7.3"
  }
 },
 "nbformat": 4,
 "nbformat_minor": 2
}
