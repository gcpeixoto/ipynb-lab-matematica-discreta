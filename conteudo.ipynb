{
 "cells": [
  {
   "cell_type": "markdown",
   "metadata": {},
   "source": [
    "# Laboratório Computacional de Matemática Discreta\n",
    "\n",
    "## Conteúdo \n",
    "\n",
    "- [Aula 00 - Introdução](aula-00-introducao.ipynb)\n",
    "- [Aula 01 - Teoria elementar de conjuntos](aula-01-conjuntos.ipynb)\n",
    "- [Aula 02 - Lógica proposicional](aula-02-logica-proposicional.ipynb)\n",
    "- [Aula 03 - Equivalências lógicas](aula-03-equivalencias-logicas.ipynb)\n",
    "- [Aula 04 - Predicados](aula-04-predicados.ipynb)"
   ]
  },
  {
   "cell_type": "code",
   "execution_count": null,
   "metadata": {},
   "outputs": [],
   "source": []
  }
 ],
 "metadata": {
  "kernelspec": {
   "display_name": "Python 3",
   "language": "python",
   "name": "python3"
  },
  "language_info": {
   "codemirror_mode": {
    "name": "ipython",
    "version": 3
   },
   "file_extension": ".py",
   "mimetype": "text/x-python",
   "name": "python",
   "nbconvert_exporter": "python",
   "pygments_lexer": "ipython3",
   "version": "3.7.3"
  }
 },
 "nbformat": 4,
 "nbformat_minor": 2
}
