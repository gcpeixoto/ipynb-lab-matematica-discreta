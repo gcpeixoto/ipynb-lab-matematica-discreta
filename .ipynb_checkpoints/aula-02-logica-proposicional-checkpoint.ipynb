{
 "cells": [
  {
   "cell_type": "markdown",
   "metadata": {},
   "source": [
    "# Lógica Proposicional e Tabela-Verdade\n",
    "\n",
    "Para gerar as tabelas-verdade deste notebook, você precisará do módulo `ttg`. \n",
    "\n",
    "## Instalação do módulo `ttg`\n",
    "\n",
    "Você pode instalá-lo de modo não-interativo em background avaliando uma célula aqui com o comando abaixo\n",
    "\n",
    "```python \n",
    "!pip install truth-table-generator\n",
    "```\n",
    "ou instalando o módulo pela via interativa fora do Jupyter.\n",
    "\n",
    "Para importá-lo, devemos fazer o seguinte:"
   ]
  },
  {
   "cell_type": "code",
   "execution_count": 1,
   "metadata": {},
   "outputs": [],
   "source": [
    "import ttg # importa o módulo truth-table-generator "
   ]
  },
  {
   "cell_type": "markdown",
   "metadata": {},
   "source": [
    "## Tabela-verdade com proposições atômicas\n",
    "\n",
    "Considere que $p_1, p_2, \\ldots, p_n$ são proposições. A tabela-verdade de $2^n$ linhas e $n$ colunas dos valores possíveis pode ser impressa com o comando\n",
    "\n",
    "```python \n",
    "print(ttg.Truths(['p1','p2',...,'pn']))\n",
    "```\n",
    "\n",
    "onde cada proposição deve ser explicitamente escrita na lista como uma `string`. "
   ]
  },
  {
   "cell_type": "code",
   "execution_count": 2,
   "metadata": {},
   "outputs": [
    {
     "name": "stdout",
     "output_type": "stream",
     "text": [
      "+------+------+\n",
      "|  p1  |  p2  |\n",
      "|------+------|\n",
      "|  1   |  1   |\n",
      "|  1   |  0   |\n",
      "|  0   |  1   |\n",
      "|  0   |  0   |\n",
      "+------+------+\n"
     ]
    }
   ],
   "source": [
    "# Exemplo com 2 proposições  \n",
    "\n",
    "print(ttg.Truths(['p1','p2']))"
   ]
  },
  {
   "cell_type": "markdown",
   "metadata": {},
   "source": [
    "Atente-se para os valores `0` e `1`, que correspondem a `True` e `False`, respectivamente."
   ]
  },
  {
   "cell_type": "code",
   "execution_count": 3,
   "metadata": {},
   "outputs": [
    {
     "name": "stdout",
     "output_type": "stream",
     "text": [
      "+------+------+------+\n",
      "|  p1  |  p2  |  p3  |\n",
      "|------+------+------|\n",
      "|  1   |  1   |  1   |\n",
      "|  1   |  1   |  0   |\n",
      "|  1   |  0   |  1   |\n",
      "|  1   |  0   |  0   |\n",
      "|  0   |  1   |  1   |\n",
      "|  0   |  1   |  0   |\n",
      "|  0   |  0   |  1   |\n",
      "|  0   |  0   |  0   |\n",
      "+------+------+------+\n"
     ]
    }
   ],
   "source": [
    "# Exemplo com 3 proposições \n",
    "print(ttg.Truths(['p1','p2','p3']))"
   ]
  },
  {
   "cell_type": "code",
   "execution_count": 4,
   "metadata": {},
   "outputs": [
    {
     "name": "stdout",
     "output_type": "stream",
     "text": [
      "+------+------+------+------+\n",
      "|  p1  |  p2  |  p3  |  p4  |\n",
      "|------+------+------+------|\n",
      "|  1   |  1   |  1   |  1   |\n",
      "|  1   |  1   |  1   |  0   |\n",
      "|  1   |  1   |  0   |  1   |\n",
      "|  1   |  1   |  0   |  0   |\n",
      "|  1   |  0   |  1   |  1   |\n",
      "|  1   |  0   |  1   |  0   |\n",
      "|  1   |  0   |  0   |  1   |\n",
      "|  1   |  0   |  0   |  0   |\n",
      "|  0   |  1   |  1   |  1   |\n",
      "|  0   |  1   |  1   |  0   |\n",
      "|  0   |  1   |  0   |  1   |\n",
      "|  0   |  1   |  0   |  0   |\n",
      "|  0   |  0   |  1   |  1   |\n",
      "|  0   |  0   |  1   |  0   |\n",
      "|  0   |  0   |  0   |  1   |\n",
      "|  0   |  0   |  0   |  0   |\n",
      "+------+------+------+------+\n"
     ]
    }
   ],
   "source": [
    "# Exemplo com 4 proposições \n",
    "print(ttg.Truths(['p1','p2','p3','p4']))"
   ]
  },
  {
   "cell_type": "markdown",
   "metadata": {},
   "source": [
    "Podemos usar qualquer string para as proposições."
   ]
  },
  {
   "cell_type": "code",
   "execution_count": 5,
   "metadata": {},
   "outputs": [
    {
     "name": "stdout",
     "output_type": "stream",
     "text": [
      "+----------------------+------------------+\n",
      "|  Marcos é estudioso  |  João é curioso  |\n",
      "|----------------------+------------------|\n",
      "|          1           |        1         |\n",
      "|          1           |        0         |\n",
      "|          0           |        1         |\n",
      "|          0           |        0         |\n",
      "+----------------------+------------------+\n"
     ]
    }
   ],
   "source": [
    "print(ttg.Truths(['Marcos é estudioso','João é curioso']))"
   ]
  },
  {
   "cell_type": "code",
   "execution_count": 6,
   "metadata": {},
   "outputs": [
    {
     "name": "stdout",
     "output_type": "stream",
     "text": [
      "+-----+-----+-----+\n",
      "|  p  |  q  |  r  |\n",
      "|-----+-----+-----|\n",
      "|  1  |  1  |  1  |\n",
      "|  1  |  1  |  0  |\n",
      "|  1  |  0  |  1  |\n",
      "|  1  |  0  |  0  |\n",
      "|  0  |  1  |  1  |\n",
      "|  0  |  1  |  0  |\n",
      "|  0  |  0  |  1  |\n",
      "|  0  |  0  |  0  |\n",
      "+-----+-----+-----+\n"
     ]
    }
   ],
   "source": [
    "print(ttg.Truths(['p','q','r']))"
   ]
  },
  {
   "cell_type": "markdown",
   "metadata": {},
   "source": [
    "## Tabela-verdade com expressões proposicionais e operadores lógicos \n",
    "\n",
    "\n",
    "Podemos criar a tabela-verdade de uma ou mais expressões proposicionais utilizando os operadores interpretáveis pelo módulo `ttg`. \n",
    "\n",
    "|operador|interpretação|representação|\n",
    "|---|---|---|\n",
    "|$\\neg$|negação|`not`, ou `-`, ou `~`|\n",
    "|$\\vee$|disjunção|`or`|\n",
    "|$\\wedge$|conjunção|`and`|\n",
    "|$\\oplus$|disjunção exclusiva|`xor`, ou `!=`|\n",
    "|$\\rightarrow$ ou $\\Rightarrow$|implicação|`=>`, ou `implies`|\n",
    "|$\\leftrightarrow$ ou $\\Leftrightarrow$|bicondicional|`=`|\n",
    "|$\\neg(p \\wedge q)$|_nand_|`nand`| \n",
    "|$\\neg(p \\vee q)$|_nor_|`nor`| \n",
    "\n",
    "**Obs.:** Note que os operadores _nand_ e _nor_ decorrem das **Leis de de Morgan**.\n",
    "\n",
    "As expressões podem ser passadas no código computacional em listas. Vejamos alguns exemplos.\n",
    "\n",
    "Exemplo: $p \\vee q$"
   ]
  },
  {
   "cell_type": "code",
   "execution_count": 7,
   "metadata": {},
   "outputs": [
    {
     "name": "stdout",
     "output_type": "stream",
     "text": [
      "+-----+-----+----------+\n",
      "|  p  |  q  |  p or q  |\n",
      "|-----+-----+----------|\n",
      "|  1  |  1  |    1     |\n",
      "|  1  |  0  |    1     |\n",
      "|  0  |  1  |    1     |\n",
      "|  0  |  0  |    0     |\n",
      "+-----+-----+----------+\n"
     ]
    }
   ],
   "source": [
    "print(ttg.Truths(['p','q'],['p or q']))"
   ]
  },
  {
   "cell_type": "markdown",
   "metadata": {},
   "source": [
    "Exemplo: $p \\wedge q \\wedge r$"
   ]
  },
  {
   "cell_type": "code",
   "execution_count": 8,
   "metadata": {},
   "outputs": [
    {
     "name": "stdout",
     "output_type": "stream",
     "text": [
      "+-----+-----+-----+-----------------+\n",
      "|  p  |  q  |  r  |  p and q and r  |\n",
      "|-----+-----+-----+-----------------|\n",
      "|  1  |  1  |  1  |        1        |\n",
      "|  1  |  1  |  0  |        0        |\n",
      "|  1  |  0  |  1  |        0        |\n",
      "|  1  |  0  |  0  |        0        |\n",
      "|  0  |  1  |  1  |        0        |\n",
      "|  0  |  1  |  0  |        0        |\n",
      "|  0  |  0  |  1  |        0        |\n",
      "|  0  |  0  |  0  |        0        |\n",
      "+-----+-----+-----+-----------------+\n"
     ]
    }
   ],
   "source": [
    "print(ttg.Truths(['p','q','r'],['p and q and r']))"
   ]
  },
  {
   "cell_type": "markdown",
   "metadata": {},
   "source": [
    "Exemplo: $p \\oplus q$"
   ]
  },
  {
   "cell_type": "code",
   "execution_count": 9,
   "metadata": {},
   "outputs": [
    {
     "name": "stdout",
     "output_type": "stream",
     "text": [
      "+-----+-----+-----------+\n",
      "|  p  |  q  |  p xor q  |\n",
      "|-----+-----+-----------|\n",
      "|  1  |  1  |     0     |\n",
      "|  1  |  0  |     1     |\n",
      "|  0  |  1  |     1     |\n",
      "|  0  |  0  |     0     |\n",
      "+-----+-----+-----------+\n"
     ]
    }
   ],
   "source": [
    "print(ttg.Truths(['p','q'],['p xor q']))"
   ]
  },
  {
   "cell_type": "markdown",
   "metadata": {},
   "source": [
    "Exemplo: $\\sim(p \\vee q) \\wedge r$"
   ]
  },
  {
   "cell_type": "code",
   "execution_count": 10,
   "metadata": {},
   "outputs": [
    {
     "name": "stdout",
     "output_type": "stream",
     "text": [
      "+-----+-----+-----+-----------+-----------------+\n",
      "|  p  |  q  |  r  |  p nor q  |  p nor q and r  |\n",
      "|-----+-----+-----+-----------+-----------------|\n",
      "|  1  |  1  |  1  |     0     |        0        |\n",
      "|  1  |  1  |  0  |     0     |        0        |\n",
      "|  1  |  0  |  1  |     0     |        0        |\n",
      "|  1  |  0  |  0  |     0     |        0        |\n",
      "|  0  |  1  |  1  |     0     |        0        |\n",
      "|  0  |  1  |  0  |     0     |        1        |\n",
      "|  0  |  0  |  1  |     1     |        1        |\n",
      "|  0  |  0  |  0  |     1     |        1        |\n",
      "+-----+-----+-----+-----------+-----------------+\n"
     ]
    }
   ],
   "source": [
    "print(ttg.Truths(['p','q','r'],['p nor q', 'p nor q and r']))"
   ]
  },
  {
   "cell_type": "markdown",
   "metadata": {},
   "source": [
    "## Imprimindo `True` e `False` em vez de `0` e `1`\n",
    "\n",
    "Para imprimirmos os valores booleanos como palavras, devemos adicionar o argumento \n",
    "\n",
    "```python \n",
    "ints=False \n",
    "```\n",
    "\n",
    "na função geradora da tabela-verdade. "
   ]
  },
  {
   "cell_type": "code",
   "execution_count": 11,
   "metadata": {},
   "outputs": [
    {
     "name": "stdout",
     "output_type": "stream",
     "text": [
      "+-------+-------+-----------+\n",
      "|   p   |   q   |  p xor q  |\n",
      "|-------+-------+-----------|\n",
      "| True  | True  |   False   |\n",
      "| True  | False |   True    |\n",
      "| False | True  |   True    |\n",
      "| False | False |   False   |\n",
      "+-------+-------+-----------+\n"
     ]
    }
   ],
   "source": [
    "# Exemplo: p xor q\n",
    "print(ttg.Truths(['p','q'],['p xor q'],ints=False))"
   ]
  },
  {
   "cell_type": "code",
   "execution_count": 12,
   "metadata": {},
   "outputs": [
    {
     "name": "stdout",
     "output_type": "stream",
     "text": [
      "+-------+-------+-------+-----------+-----------------+\n",
      "|   p   |   q   |   r   |  p nor q  |  p nor q and r  |\n",
      "|-------+-------+-------+-----------+-----------------|\n",
      "| True  | True  | True  |   False   |      False      |\n",
      "| True  | True  | False |   False   |      False      |\n",
      "| True  | False | True  |   False   |      False      |\n",
      "| True  | False | False |   False   |      False      |\n",
      "| False | True  | True  |   False   |      False      |\n",
      "| False | True  | False |   False   |      True       |\n",
      "| False | False | True  |   True    |      True       |\n",
      "| False | False | False |   True    |      True       |\n",
      "+-------+-------+-------+-----------+-----------------+\n"
     ]
    }
   ],
   "source": [
    "# Exemplo: p xor q\n",
    "print(ttg.Truths(['p','q','r'],['p nor q', 'p nor q and r'],ints=False))"
   ]
  },
  {
   "cell_type": "markdown",
   "metadata": {},
   "source": [
    "## Imprimindo tabelas com visual \"mais bonito\"\n",
    "\n",
    "Além da forma padrão vista anteriormente, podemos imprimir as tabelas usando \n",
    "\n",
    "1. `PrettyTable`: renderiza a tabela reduzindo espaços em branco.\n",
    "2. `Tabulate`: renderiza a tabela adicionando a primeira coluna como uma indexação\n",
    "3. `Pandas`: renderiza a tabela usando o módulo `pandas`\n",
    "\n",
    "Com o formato padrão, temos:"
   ]
  },
  {
   "cell_type": "code",
   "execution_count": 13,
   "metadata": {},
   "outputs": [
    {
     "name": "stdout",
     "output_type": "stream",
     "text": [
      "+-----+-----+----------+---------+\n",
      "|  p  |  q  |  p => q  |  p = q  |\n",
      "|-----+-----+----------+---------|\n",
      "|  1  |  1  |    1     |    1    |\n",
      "|  1  |  0  |    0     |    0    |\n",
      "|  0  |  1  |    1     |    0    |\n",
      "|  0  |  0  |    1     |    1    |\n",
      "+-----+-----+----------+---------+\n"
     ]
    }
   ],
   "source": [
    "tbl = ttg.Truths(['p', 'q'], ['p => q', 'p = q'])\n",
    "print(tbl)"
   ]
  },
  {
   "cell_type": "markdown",
   "metadata": {},
   "source": [
    "### `PrettyTable`\n",
    "\n",
    "Note a redução da largura das colunas."
   ]
  },
  {
   "cell_type": "code",
   "execution_count": 14,
   "metadata": {},
   "outputs": [
    {
     "name": "stdout",
     "output_type": "stream",
     "text": [
      "+---+---+--------+-------+\n",
      "| p | q | p => q | p = q |\n",
      "+---+---+--------+-------+\n",
      "| 1 | 1 |   1    |   1   |\n",
      "| 1 | 0 |   0    |   0   |\n",
      "| 0 | 1 |   1    |   0   |\n",
      "| 0 | 0 |   1    |   1   |\n",
      "+---+---+--------+-------+\n"
     ]
    }
   ],
   "source": [
    "print(tbl.as_prettytable())"
   ]
  },
  {
   "cell_type": "markdown",
   "metadata": {},
   "source": [
    "### `Tabulate`\n",
    "\n",
    "Note a indexação na primeira coluna."
   ]
  },
  {
   "cell_type": "code",
   "execution_count": 15,
   "metadata": {},
   "outputs": [
    {
     "name": "stdout",
     "output_type": "stream",
     "text": [
      "+----+-----+-----+----------+---------+\n",
      "|    |  p  |  q  |  p => q  |  p = q  |\n",
      "|----+-----+-----+----------+---------|\n",
      "| 1  |  1  |  1  |    1     |    1    |\n",
      "| 2  |  1  |  0  |    0     |    0    |\n",
      "| 3  |  0  |  1  |    1     |    0    |\n",
      "| 4  |  0  |  0  |    1     |    1    |\n",
      "+----+-----+-----+----------+---------+\n"
     ]
    }
   ],
   "source": [
    "print(tbl.as_tabulate())"
   ]
  },
  {
   "cell_type": "markdown",
   "metadata": {},
   "source": [
    "### `Pandas`\n",
    "\n",
    "Com pandas, a renderização fica sob encargo do _notebook_ e não precisamos da função `print`. Esta talvez seja a forma melhor estilizada."
   ]
  },
  {
   "cell_type": "code",
   "execution_count": 16,
   "metadata": {},
   "outputs": [
    {
     "data": {
      "text/html": [
       "<div>\n",
       "<style scoped>\n",
       "    .dataframe tbody tr th:only-of-type {\n",
       "        vertical-align: middle;\n",
       "    }\n",
       "\n",
       "    .dataframe tbody tr th {\n",
       "        vertical-align: top;\n",
       "    }\n",
       "\n",
       "    .dataframe thead th {\n",
       "        text-align: right;\n",
       "    }\n",
       "</style>\n",
       "<table border=\"1\" class=\"dataframe\">\n",
       "  <thead>\n",
       "    <tr style=\"text-align: right;\">\n",
       "      <th></th>\n",
       "      <th>p</th>\n",
       "      <th>q</th>\n",
       "      <th>p =&gt; q</th>\n",
       "      <th>p = q</th>\n",
       "    </tr>\n",
       "  </thead>\n",
       "  <tbody>\n",
       "    <tr>\n",
       "      <th>1</th>\n",
       "      <td>1</td>\n",
       "      <td>1</td>\n",
       "      <td>1</td>\n",
       "      <td>1</td>\n",
       "    </tr>\n",
       "    <tr>\n",
       "      <th>2</th>\n",
       "      <td>1</td>\n",
       "      <td>0</td>\n",
       "      <td>0</td>\n",
       "      <td>0</td>\n",
       "    </tr>\n",
       "    <tr>\n",
       "      <th>3</th>\n",
       "      <td>0</td>\n",
       "      <td>1</td>\n",
       "      <td>1</td>\n",
       "      <td>0</td>\n",
       "    </tr>\n",
       "    <tr>\n",
       "      <th>4</th>\n",
       "      <td>0</td>\n",
       "      <td>0</td>\n",
       "      <td>1</td>\n",
       "      <td>1</td>\n",
       "    </tr>\n",
       "  </tbody>\n",
       "</table>\n",
       "</div>"
      ],
      "text/plain": [
       "   p  q p => q p = q\n",
       "1  1  1      1     1\n",
       "2  1  0      0     0\n",
       "3  0  1      1     0\n",
       "4  0  0      1     1"
      ]
     },
     "execution_count": 16,
     "metadata": {},
     "output_type": "execute_result"
    }
   ],
   "source": [
    "tbl.as_pandas()"
   ]
  },
  {
   "cell_type": "markdown",
   "metadata": {},
   "source": [
    "Podemos estilizar a saída ainda mais aplicando propriedades. Por exemplo, para alinhar o texto e remover a coluna de indexação, podemos fazer: "
   ]
  },
  {
   "cell_type": "code",
   "execution_count": 17,
   "metadata": {},
   "outputs": [
    {
     "data": {
      "text/html": [
       "<style  type=\"text/css\" >\n",
       "    #T_9d2fa8c2_f410_11e9_9772_24f094f2cd94row0_col0 {\n",
       "            text-align:  center;\n",
       "        }    #T_9d2fa8c2_f410_11e9_9772_24f094f2cd94row0_col1 {\n",
       "            text-align:  center;\n",
       "        }    #T_9d2fa8c2_f410_11e9_9772_24f094f2cd94row0_col2 {\n",
       "            text-align:  center;\n",
       "        }    #T_9d2fa8c2_f410_11e9_9772_24f094f2cd94row0_col3 {\n",
       "            text-align:  center;\n",
       "        }    #T_9d2fa8c2_f410_11e9_9772_24f094f2cd94row1_col0 {\n",
       "            text-align:  center;\n",
       "        }    #T_9d2fa8c2_f410_11e9_9772_24f094f2cd94row1_col1 {\n",
       "            text-align:  center;\n",
       "        }    #T_9d2fa8c2_f410_11e9_9772_24f094f2cd94row1_col2 {\n",
       "            text-align:  center;\n",
       "        }    #T_9d2fa8c2_f410_11e9_9772_24f094f2cd94row1_col3 {\n",
       "            text-align:  center;\n",
       "        }    #T_9d2fa8c2_f410_11e9_9772_24f094f2cd94row2_col0 {\n",
       "            text-align:  center;\n",
       "        }    #T_9d2fa8c2_f410_11e9_9772_24f094f2cd94row2_col1 {\n",
       "            text-align:  center;\n",
       "        }    #T_9d2fa8c2_f410_11e9_9772_24f094f2cd94row2_col2 {\n",
       "            text-align:  center;\n",
       "        }    #T_9d2fa8c2_f410_11e9_9772_24f094f2cd94row2_col3 {\n",
       "            text-align:  center;\n",
       "        }    #T_9d2fa8c2_f410_11e9_9772_24f094f2cd94row3_col0 {\n",
       "            text-align:  center;\n",
       "        }    #T_9d2fa8c2_f410_11e9_9772_24f094f2cd94row3_col1 {\n",
       "            text-align:  center;\n",
       "        }    #T_9d2fa8c2_f410_11e9_9772_24f094f2cd94row3_col2 {\n",
       "            text-align:  center;\n",
       "        }    #T_9d2fa8c2_f410_11e9_9772_24f094f2cd94row3_col3 {\n",
       "            text-align:  center;\n",
       "        }</style><table id=\"T_9d2fa8c2_f410_11e9_9772_24f094f2cd94\" ><thead>    <tr>        <th class=\"col_heading level0 col0\" >p</th>        <th class=\"col_heading level0 col1\" >q</th>        <th class=\"col_heading level0 col2\" >p => q</th>        <th class=\"col_heading level0 col3\" >p = q</th>    </tr></thead><tbody>\n",
       "                <tr>\n",
       "                                <td id=\"T_9d2fa8c2_f410_11e9_9772_24f094f2cd94row0_col0\" class=\"data row0 col0\" >1</td>\n",
       "                        <td id=\"T_9d2fa8c2_f410_11e9_9772_24f094f2cd94row0_col1\" class=\"data row0 col1\" >1</td>\n",
       "                        <td id=\"T_9d2fa8c2_f410_11e9_9772_24f094f2cd94row0_col2\" class=\"data row0 col2\" >1</td>\n",
       "                        <td id=\"T_9d2fa8c2_f410_11e9_9772_24f094f2cd94row0_col3\" class=\"data row0 col3\" >1</td>\n",
       "            </tr>\n",
       "            <tr>\n",
       "                                <td id=\"T_9d2fa8c2_f410_11e9_9772_24f094f2cd94row1_col0\" class=\"data row1 col0\" >1</td>\n",
       "                        <td id=\"T_9d2fa8c2_f410_11e9_9772_24f094f2cd94row1_col1\" class=\"data row1 col1\" >0</td>\n",
       "                        <td id=\"T_9d2fa8c2_f410_11e9_9772_24f094f2cd94row1_col2\" class=\"data row1 col2\" >0</td>\n",
       "                        <td id=\"T_9d2fa8c2_f410_11e9_9772_24f094f2cd94row1_col3\" class=\"data row1 col3\" >0</td>\n",
       "            </tr>\n",
       "            <tr>\n",
       "                                <td id=\"T_9d2fa8c2_f410_11e9_9772_24f094f2cd94row2_col0\" class=\"data row2 col0\" >0</td>\n",
       "                        <td id=\"T_9d2fa8c2_f410_11e9_9772_24f094f2cd94row2_col1\" class=\"data row2 col1\" >1</td>\n",
       "                        <td id=\"T_9d2fa8c2_f410_11e9_9772_24f094f2cd94row2_col2\" class=\"data row2 col2\" >1</td>\n",
       "                        <td id=\"T_9d2fa8c2_f410_11e9_9772_24f094f2cd94row2_col3\" class=\"data row2 col3\" >0</td>\n",
       "            </tr>\n",
       "            <tr>\n",
       "                                <td id=\"T_9d2fa8c2_f410_11e9_9772_24f094f2cd94row3_col0\" class=\"data row3 col0\" >0</td>\n",
       "                        <td id=\"T_9d2fa8c2_f410_11e9_9772_24f094f2cd94row3_col1\" class=\"data row3 col1\" >0</td>\n",
       "                        <td id=\"T_9d2fa8c2_f410_11e9_9772_24f094f2cd94row3_col2\" class=\"data row3 col2\" >1</td>\n",
       "                        <td id=\"T_9d2fa8c2_f410_11e9_9772_24f094f2cd94row3_col3\" class=\"data row3 col3\" >1</td>\n",
       "            </tr>\n",
       "    </tbody></table>"
      ],
      "text/plain": [
       "<pandas.io.formats.style.Styler at 0x11fe61ac8>"
      ]
     },
     "execution_count": 17,
     "metadata": {},
     "output_type": "execute_result"
    }
   ],
   "source": [
    "tbl.as_pandas().style.set_properties(**{'text-align': 'center'}).hide_index()"
   ]
  },
  {
   "cell_type": "markdown",
   "metadata": {},
   "source": [
    "## Estilizando tabelas \n",
    "\n",
    "O estilo das tabelas pode ser alterado alterando propriedades. Por exemplo:  "
   ]
  },
  {
   "cell_type": "code",
   "execution_count": 18,
   "metadata": {},
   "outputs": [],
   "source": [
    "def color_false_red(val):\n",
    "    \"\"\"Color red False (0) and green True (1) values\"\"\"\n",
    "    color = 'red' if (val == False) else 'green'\n",
    "    return 'color: %s' % color\n",
    "\n",
    "\n",
    "def df_style(logic, hl_rows=[], hl_cols=[]):\n",
    "    \"\"\"Applies style to logical expression (logic) pandas truth table. \n",
    "    Text: center. \n",
    "    Table: no index column. \n",
    "    Highlight yellow rows and columns in \n",
    "    lists (hl_rows and hl_cols). At the end applies color_false_red function\"\"\"\n",
    "    d = logic.as_pandas().style.set_table_styles([{\n",
    "        'selector':\n",
    "        'th',\n",
    "        'props': [('font-size', '12pt')]\n",
    "    }]).set_properties(**{\n",
    "        'text-align': 'center',\n",
    "        'font-size': '115%'\n",
    "    }).apply(\n",
    "        lambda x:\n",
    "        ['background: lightyellow' if x.name in hl_rows else '' for i in x],\n",
    "        axis=1).apply(lambda x: [\n",
    "            'background: lightyellow' if x.name in hl_cols else '' for i in x\n",
    "        ],\n",
    "                      axis=0).hide_index()\n",
    "    d = d.applymap(color_false_red)\n",
    "    return d"
   ]
  },
  {
   "cell_type": "code",
   "execution_count": 19,
   "metadata": {},
   "outputs": [],
   "source": [
    "# Exemplo: cria tabela\n",
    "tbl2 = ttg.Truths(['p', 'q'],\n",
    "                   ['p => q', 'q => p', '(p => q) and (q => p)', 'p = q'],\n",
    "                   ints=False)"
   ]
  },
  {
   "cell_type": "code",
   "execution_count": 20,
   "metadata": {},
   "outputs": [
    {
     "data": {
      "text/html": [
       "<style  type=\"text/css\" >\n",
       "    #T_9d48acbe_f410_11e9_9772_24f094f2cd94 th {\n",
       "          font-size: 12pt;\n",
       "    }    #T_9d48acbe_f410_11e9_9772_24f094f2cd94row0_col0 {\n",
       "            text-align:  center;\n",
       "            font-size:  115%;\n",
       "            : ;\n",
       "            : ;\n",
       "            color:  green;\n",
       "        }    #T_9d48acbe_f410_11e9_9772_24f094f2cd94row0_col1 {\n",
       "            text-align:  center;\n",
       "            font-size:  115%;\n",
       "            : ;\n",
       "            : ;\n",
       "            color:  green;\n",
       "        }    #T_9d48acbe_f410_11e9_9772_24f094f2cd94row0_col2 {\n",
       "            text-align:  center;\n",
       "            font-size:  115%;\n",
       "            : ;\n",
       "            : ;\n",
       "            color:  green;\n",
       "        }    #T_9d48acbe_f410_11e9_9772_24f094f2cd94row0_col3 {\n",
       "            text-align:  center;\n",
       "            font-size:  115%;\n",
       "            : ;\n",
       "            : ;\n",
       "            color:  green;\n",
       "        }    #T_9d48acbe_f410_11e9_9772_24f094f2cd94row0_col4 {\n",
       "            text-align:  center;\n",
       "            font-size:  115%;\n",
       "            : ;\n",
       "            : ;\n",
       "            color:  green;\n",
       "        }    #T_9d48acbe_f410_11e9_9772_24f094f2cd94row0_col5 {\n",
       "            text-align:  center;\n",
       "            font-size:  115%;\n",
       "            : ;\n",
       "            : ;\n",
       "            color:  green;\n",
       "        }    #T_9d48acbe_f410_11e9_9772_24f094f2cd94row1_col0 {\n",
       "            text-align:  center;\n",
       "            font-size:  115%;\n",
       "            : ;\n",
       "            : ;\n",
       "            color:  green;\n",
       "        }    #T_9d48acbe_f410_11e9_9772_24f094f2cd94row1_col1 {\n",
       "            text-align:  center;\n",
       "            font-size:  115%;\n",
       "            : ;\n",
       "            : ;\n",
       "            color:  red;\n",
       "        }    #T_9d48acbe_f410_11e9_9772_24f094f2cd94row1_col2 {\n",
       "            text-align:  center;\n",
       "            font-size:  115%;\n",
       "            : ;\n",
       "            : ;\n",
       "            color:  red;\n",
       "        }    #T_9d48acbe_f410_11e9_9772_24f094f2cd94row1_col3 {\n",
       "            text-align:  center;\n",
       "            font-size:  115%;\n",
       "            : ;\n",
       "            : ;\n",
       "            color:  green;\n",
       "        }    #T_9d48acbe_f410_11e9_9772_24f094f2cd94row1_col4 {\n",
       "            text-align:  center;\n",
       "            font-size:  115%;\n",
       "            : ;\n",
       "            : ;\n",
       "            color:  red;\n",
       "        }    #T_9d48acbe_f410_11e9_9772_24f094f2cd94row1_col5 {\n",
       "            text-align:  center;\n",
       "            font-size:  115%;\n",
       "            : ;\n",
       "            : ;\n",
       "            color:  red;\n",
       "        }    #T_9d48acbe_f410_11e9_9772_24f094f2cd94row2_col0 {\n",
       "            text-align:  center;\n",
       "            font-size:  115%;\n",
       "            : ;\n",
       "            : ;\n",
       "            color:  red;\n",
       "        }    #T_9d48acbe_f410_11e9_9772_24f094f2cd94row2_col1 {\n",
       "            text-align:  center;\n",
       "            font-size:  115%;\n",
       "            : ;\n",
       "            : ;\n",
       "            color:  green;\n",
       "        }    #T_9d48acbe_f410_11e9_9772_24f094f2cd94row2_col2 {\n",
       "            text-align:  center;\n",
       "            font-size:  115%;\n",
       "            : ;\n",
       "            : ;\n",
       "            color:  green;\n",
       "        }    #T_9d48acbe_f410_11e9_9772_24f094f2cd94row2_col3 {\n",
       "            text-align:  center;\n",
       "            font-size:  115%;\n",
       "            : ;\n",
       "            : ;\n",
       "            color:  red;\n",
       "        }    #T_9d48acbe_f410_11e9_9772_24f094f2cd94row2_col4 {\n",
       "            text-align:  center;\n",
       "            font-size:  115%;\n",
       "            : ;\n",
       "            : ;\n",
       "            color:  red;\n",
       "        }    #T_9d48acbe_f410_11e9_9772_24f094f2cd94row2_col5 {\n",
       "            text-align:  center;\n",
       "            font-size:  115%;\n",
       "            : ;\n",
       "            : ;\n",
       "            color:  red;\n",
       "        }    #T_9d48acbe_f410_11e9_9772_24f094f2cd94row3_col0 {\n",
       "            text-align:  center;\n",
       "            font-size:  115%;\n",
       "            : ;\n",
       "            : ;\n",
       "            color:  red;\n",
       "        }    #T_9d48acbe_f410_11e9_9772_24f094f2cd94row3_col1 {\n",
       "            text-align:  center;\n",
       "            font-size:  115%;\n",
       "            : ;\n",
       "            : ;\n",
       "            color:  red;\n",
       "        }    #T_9d48acbe_f410_11e9_9772_24f094f2cd94row3_col2 {\n",
       "            text-align:  center;\n",
       "            font-size:  115%;\n",
       "            : ;\n",
       "            : ;\n",
       "            color:  green;\n",
       "        }    #T_9d48acbe_f410_11e9_9772_24f094f2cd94row3_col3 {\n",
       "            text-align:  center;\n",
       "            font-size:  115%;\n",
       "            : ;\n",
       "            : ;\n",
       "            color:  green;\n",
       "        }    #T_9d48acbe_f410_11e9_9772_24f094f2cd94row3_col4 {\n",
       "            text-align:  center;\n",
       "            font-size:  115%;\n",
       "            : ;\n",
       "            : ;\n",
       "            color:  green;\n",
       "        }    #T_9d48acbe_f410_11e9_9772_24f094f2cd94row3_col5 {\n",
       "            text-align:  center;\n",
       "            font-size:  115%;\n",
       "            : ;\n",
       "            : ;\n",
       "            color:  green;\n",
       "        }</style><table id=\"T_9d48acbe_f410_11e9_9772_24f094f2cd94\" ><thead>    <tr>        <th class=\"col_heading level0 col0\" >p</th>        <th class=\"col_heading level0 col1\" >q</th>        <th class=\"col_heading level0 col2\" >p => q</th>        <th class=\"col_heading level0 col3\" >q => p</th>        <th class=\"col_heading level0 col4\" >(p => q) and (q => p)</th>        <th class=\"col_heading level0 col5\" >p = q</th>    </tr></thead><tbody>\n",
       "                <tr>\n",
       "                                <td id=\"T_9d48acbe_f410_11e9_9772_24f094f2cd94row0_col0\" class=\"data row0 col0\" >True</td>\n",
       "                        <td id=\"T_9d48acbe_f410_11e9_9772_24f094f2cd94row0_col1\" class=\"data row0 col1\" >True</td>\n",
       "                        <td id=\"T_9d48acbe_f410_11e9_9772_24f094f2cd94row0_col2\" class=\"data row0 col2\" >True</td>\n",
       "                        <td id=\"T_9d48acbe_f410_11e9_9772_24f094f2cd94row0_col3\" class=\"data row0 col3\" >True</td>\n",
       "                        <td id=\"T_9d48acbe_f410_11e9_9772_24f094f2cd94row0_col4\" class=\"data row0 col4\" >True</td>\n",
       "                        <td id=\"T_9d48acbe_f410_11e9_9772_24f094f2cd94row0_col5\" class=\"data row0 col5\" >True</td>\n",
       "            </tr>\n",
       "            <tr>\n",
       "                                <td id=\"T_9d48acbe_f410_11e9_9772_24f094f2cd94row1_col0\" class=\"data row1 col0\" >True</td>\n",
       "                        <td id=\"T_9d48acbe_f410_11e9_9772_24f094f2cd94row1_col1\" class=\"data row1 col1\" >False</td>\n",
       "                        <td id=\"T_9d48acbe_f410_11e9_9772_24f094f2cd94row1_col2\" class=\"data row1 col2\" >False</td>\n",
       "                        <td id=\"T_9d48acbe_f410_11e9_9772_24f094f2cd94row1_col3\" class=\"data row1 col3\" >True</td>\n",
       "                        <td id=\"T_9d48acbe_f410_11e9_9772_24f094f2cd94row1_col4\" class=\"data row1 col4\" >False</td>\n",
       "                        <td id=\"T_9d48acbe_f410_11e9_9772_24f094f2cd94row1_col5\" class=\"data row1 col5\" >False</td>\n",
       "            </tr>\n",
       "            <tr>\n",
       "                                <td id=\"T_9d48acbe_f410_11e9_9772_24f094f2cd94row2_col0\" class=\"data row2 col0\" >False</td>\n",
       "                        <td id=\"T_9d48acbe_f410_11e9_9772_24f094f2cd94row2_col1\" class=\"data row2 col1\" >True</td>\n",
       "                        <td id=\"T_9d48acbe_f410_11e9_9772_24f094f2cd94row2_col2\" class=\"data row2 col2\" >True</td>\n",
       "                        <td id=\"T_9d48acbe_f410_11e9_9772_24f094f2cd94row2_col3\" class=\"data row2 col3\" >False</td>\n",
       "                        <td id=\"T_9d48acbe_f410_11e9_9772_24f094f2cd94row2_col4\" class=\"data row2 col4\" >False</td>\n",
       "                        <td id=\"T_9d48acbe_f410_11e9_9772_24f094f2cd94row2_col5\" class=\"data row2 col5\" >False</td>\n",
       "            </tr>\n",
       "            <tr>\n",
       "                                <td id=\"T_9d48acbe_f410_11e9_9772_24f094f2cd94row3_col0\" class=\"data row3 col0\" >False</td>\n",
       "                        <td id=\"T_9d48acbe_f410_11e9_9772_24f094f2cd94row3_col1\" class=\"data row3 col1\" >False</td>\n",
       "                        <td id=\"T_9d48acbe_f410_11e9_9772_24f094f2cd94row3_col2\" class=\"data row3 col2\" >True</td>\n",
       "                        <td id=\"T_9d48acbe_f410_11e9_9772_24f094f2cd94row3_col3\" class=\"data row3 col3\" >True</td>\n",
       "                        <td id=\"T_9d48acbe_f410_11e9_9772_24f094f2cd94row3_col4\" class=\"data row3 col4\" >True</td>\n",
       "                        <td id=\"T_9d48acbe_f410_11e9_9772_24f094f2cd94row3_col5\" class=\"data row3 col5\" >True</td>\n",
       "            </tr>\n",
       "    </tbody></table>"
      ],
      "text/plain": [
       "<pandas.io.formats.style.Styler at 0x11fefecc0>"
      ]
     },
     "execution_count": 20,
     "metadata": {},
     "output_type": "execute_result"
    }
   ],
   "source": [
    "# Sem highlights para linhas ou colunas \n",
    "df_style(tbl2)"
   ]
  },
  {
   "cell_type": "code",
   "execution_count": 21,
   "metadata": {},
   "outputs": [
    {
     "data": {
      "text/html": [
       "<style  type=\"text/css\" >\n",
       "    #T_9d5735b8_f410_11e9_9772_24f094f2cd94 th {\n",
       "          font-size: 12pt;\n",
       "    }    #T_9d5735b8_f410_11e9_9772_24f094f2cd94row0_col0 {\n",
       "            text-align:  center;\n",
       "            font-size:  115%;\n",
       "            : ;\n",
       "            : ;\n",
       "            color:  green;\n",
       "        }    #T_9d5735b8_f410_11e9_9772_24f094f2cd94row0_col1 {\n",
       "            text-align:  center;\n",
       "            font-size:  115%;\n",
       "            : ;\n",
       "            : ;\n",
       "            color:  green;\n",
       "        }    #T_9d5735b8_f410_11e9_9772_24f094f2cd94row0_col2 {\n",
       "            text-align:  center;\n",
       "            font-size:  115%;\n",
       "            : ;\n",
       "            : ;\n",
       "            color:  green;\n",
       "        }    #T_9d5735b8_f410_11e9_9772_24f094f2cd94row0_col3 {\n",
       "            text-align:  center;\n",
       "            font-size:  115%;\n",
       "            : ;\n",
       "            : ;\n",
       "            color:  green;\n",
       "        }    #T_9d5735b8_f410_11e9_9772_24f094f2cd94row0_col4 {\n",
       "            text-align:  center;\n",
       "            font-size:  115%;\n",
       "            : ;\n",
       "            : ;\n",
       "            color:  green;\n",
       "        }    #T_9d5735b8_f410_11e9_9772_24f094f2cd94row0_col5 {\n",
       "            text-align:  center;\n",
       "            font-size:  115%;\n",
       "            : ;\n",
       "            : ;\n",
       "            color:  green;\n",
       "        }    #T_9d5735b8_f410_11e9_9772_24f094f2cd94row1_col0 {\n",
       "            text-align:  center;\n",
       "            font-size:  115%;\n",
       "            background:  lightyellow;\n",
       "            : ;\n",
       "            color:  green;\n",
       "        }    #T_9d5735b8_f410_11e9_9772_24f094f2cd94row1_col1 {\n",
       "            text-align:  center;\n",
       "            font-size:  115%;\n",
       "            background:  lightyellow;\n",
       "            : ;\n",
       "            color:  red;\n",
       "        }    #T_9d5735b8_f410_11e9_9772_24f094f2cd94row1_col2 {\n",
       "            text-align:  center;\n",
       "            font-size:  115%;\n",
       "            background:  lightyellow;\n",
       "            : ;\n",
       "            color:  red;\n",
       "        }    #T_9d5735b8_f410_11e9_9772_24f094f2cd94row1_col3 {\n",
       "            text-align:  center;\n",
       "            font-size:  115%;\n",
       "            background:  lightyellow;\n",
       "            : ;\n",
       "            color:  green;\n",
       "        }    #T_9d5735b8_f410_11e9_9772_24f094f2cd94row1_col4 {\n",
       "            text-align:  center;\n",
       "            font-size:  115%;\n",
       "            background:  lightyellow;\n",
       "            : ;\n",
       "            color:  red;\n",
       "        }    #T_9d5735b8_f410_11e9_9772_24f094f2cd94row1_col5 {\n",
       "            text-align:  center;\n",
       "            font-size:  115%;\n",
       "            background:  lightyellow;\n",
       "            : ;\n",
       "            color:  red;\n",
       "        }    #T_9d5735b8_f410_11e9_9772_24f094f2cd94row2_col0 {\n",
       "            text-align:  center;\n",
       "            font-size:  115%;\n",
       "            : ;\n",
       "            : ;\n",
       "            color:  red;\n",
       "        }    #T_9d5735b8_f410_11e9_9772_24f094f2cd94row2_col1 {\n",
       "            text-align:  center;\n",
       "            font-size:  115%;\n",
       "            : ;\n",
       "            : ;\n",
       "            color:  green;\n",
       "        }    #T_9d5735b8_f410_11e9_9772_24f094f2cd94row2_col2 {\n",
       "            text-align:  center;\n",
       "            font-size:  115%;\n",
       "            : ;\n",
       "            : ;\n",
       "            color:  green;\n",
       "        }    #T_9d5735b8_f410_11e9_9772_24f094f2cd94row2_col3 {\n",
       "            text-align:  center;\n",
       "            font-size:  115%;\n",
       "            : ;\n",
       "            : ;\n",
       "            color:  red;\n",
       "        }    #T_9d5735b8_f410_11e9_9772_24f094f2cd94row2_col4 {\n",
       "            text-align:  center;\n",
       "            font-size:  115%;\n",
       "            : ;\n",
       "            : ;\n",
       "            color:  red;\n",
       "        }    #T_9d5735b8_f410_11e9_9772_24f094f2cd94row2_col5 {\n",
       "            text-align:  center;\n",
       "            font-size:  115%;\n",
       "            : ;\n",
       "            : ;\n",
       "            color:  red;\n",
       "        }    #T_9d5735b8_f410_11e9_9772_24f094f2cd94row3_col0 {\n",
       "            text-align:  center;\n",
       "            font-size:  115%;\n",
       "            background:  lightyellow;\n",
       "            : ;\n",
       "            color:  red;\n",
       "        }    #T_9d5735b8_f410_11e9_9772_24f094f2cd94row3_col1 {\n",
       "            text-align:  center;\n",
       "            font-size:  115%;\n",
       "            background:  lightyellow;\n",
       "            : ;\n",
       "            color:  red;\n",
       "        }    #T_9d5735b8_f410_11e9_9772_24f094f2cd94row3_col2 {\n",
       "            text-align:  center;\n",
       "            font-size:  115%;\n",
       "            background:  lightyellow;\n",
       "            : ;\n",
       "            color:  green;\n",
       "        }    #T_9d5735b8_f410_11e9_9772_24f094f2cd94row3_col3 {\n",
       "            text-align:  center;\n",
       "            font-size:  115%;\n",
       "            background:  lightyellow;\n",
       "            : ;\n",
       "            color:  green;\n",
       "        }    #T_9d5735b8_f410_11e9_9772_24f094f2cd94row3_col4 {\n",
       "            text-align:  center;\n",
       "            font-size:  115%;\n",
       "            background:  lightyellow;\n",
       "            : ;\n",
       "            color:  green;\n",
       "        }    #T_9d5735b8_f410_11e9_9772_24f094f2cd94row3_col5 {\n",
       "            text-align:  center;\n",
       "            font-size:  115%;\n",
       "            background:  lightyellow;\n",
       "            : ;\n",
       "            color:  green;\n",
       "        }</style><table id=\"T_9d5735b8_f410_11e9_9772_24f094f2cd94\" ><thead>    <tr>        <th class=\"col_heading level0 col0\" >p</th>        <th class=\"col_heading level0 col1\" >q</th>        <th class=\"col_heading level0 col2\" >p => q</th>        <th class=\"col_heading level0 col3\" >q => p</th>        <th class=\"col_heading level0 col4\" >(p => q) and (q => p)</th>        <th class=\"col_heading level0 col5\" >p = q</th>    </tr></thead><tbody>\n",
       "                <tr>\n",
       "                                <td id=\"T_9d5735b8_f410_11e9_9772_24f094f2cd94row0_col0\" class=\"data row0 col0\" >True</td>\n",
       "                        <td id=\"T_9d5735b8_f410_11e9_9772_24f094f2cd94row0_col1\" class=\"data row0 col1\" >True</td>\n",
       "                        <td id=\"T_9d5735b8_f410_11e9_9772_24f094f2cd94row0_col2\" class=\"data row0 col2\" >True</td>\n",
       "                        <td id=\"T_9d5735b8_f410_11e9_9772_24f094f2cd94row0_col3\" class=\"data row0 col3\" >True</td>\n",
       "                        <td id=\"T_9d5735b8_f410_11e9_9772_24f094f2cd94row0_col4\" class=\"data row0 col4\" >True</td>\n",
       "                        <td id=\"T_9d5735b8_f410_11e9_9772_24f094f2cd94row0_col5\" class=\"data row0 col5\" >True</td>\n",
       "            </tr>\n",
       "            <tr>\n",
       "                                <td id=\"T_9d5735b8_f410_11e9_9772_24f094f2cd94row1_col0\" class=\"data row1 col0\" >True</td>\n",
       "                        <td id=\"T_9d5735b8_f410_11e9_9772_24f094f2cd94row1_col1\" class=\"data row1 col1\" >False</td>\n",
       "                        <td id=\"T_9d5735b8_f410_11e9_9772_24f094f2cd94row1_col2\" class=\"data row1 col2\" >False</td>\n",
       "                        <td id=\"T_9d5735b8_f410_11e9_9772_24f094f2cd94row1_col3\" class=\"data row1 col3\" >True</td>\n",
       "                        <td id=\"T_9d5735b8_f410_11e9_9772_24f094f2cd94row1_col4\" class=\"data row1 col4\" >False</td>\n",
       "                        <td id=\"T_9d5735b8_f410_11e9_9772_24f094f2cd94row1_col5\" class=\"data row1 col5\" >False</td>\n",
       "            </tr>\n",
       "            <tr>\n",
       "                                <td id=\"T_9d5735b8_f410_11e9_9772_24f094f2cd94row2_col0\" class=\"data row2 col0\" >False</td>\n",
       "                        <td id=\"T_9d5735b8_f410_11e9_9772_24f094f2cd94row2_col1\" class=\"data row2 col1\" >True</td>\n",
       "                        <td id=\"T_9d5735b8_f410_11e9_9772_24f094f2cd94row2_col2\" class=\"data row2 col2\" >True</td>\n",
       "                        <td id=\"T_9d5735b8_f410_11e9_9772_24f094f2cd94row2_col3\" class=\"data row2 col3\" >False</td>\n",
       "                        <td id=\"T_9d5735b8_f410_11e9_9772_24f094f2cd94row2_col4\" class=\"data row2 col4\" >False</td>\n",
       "                        <td id=\"T_9d5735b8_f410_11e9_9772_24f094f2cd94row2_col5\" class=\"data row2 col5\" >False</td>\n",
       "            </tr>\n",
       "            <tr>\n",
       "                                <td id=\"T_9d5735b8_f410_11e9_9772_24f094f2cd94row3_col0\" class=\"data row3 col0\" >False</td>\n",
       "                        <td id=\"T_9d5735b8_f410_11e9_9772_24f094f2cd94row3_col1\" class=\"data row3 col1\" >False</td>\n",
       "                        <td id=\"T_9d5735b8_f410_11e9_9772_24f094f2cd94row3_col2\" class=\"data row3 col2\" >True</td>\n",
       "                        <td id=\"T_9d5735b8_f410_11e9_9772_24f094f2cd94row3_col3\" class=\"data row3 col3\" >True</td>\n",
       "                        <td id=\"T_9d5735b8_f410_11e9_9772_24f094f2cd94row3_col4\" class=\"data row3 col4\" >True</td>\n",
       "                        <td id=\"T_9d5735b8_f410_11e9_9772_24f094f2cd94row3_col5\" class=\"data row3 col5\" >True</td>\n",
       "            </tr>\n",
       "    </tbody></table>"
      ],
      "text/plain": [
       "<pandas.io.formats.style.Styler at 0x11fec7898>"
      ]
     },
     "execution_count": 21,
     "metadata": {},
     "output_type": "execute_result"
    }
   ],
   "source": [
    "# Highlights para linhas 2 e 4\n",
    "df_style(tbl2, hl_rows=[2, 4])"
   ]
  },
  {
   "cell_type": "code",
   "execution_count": 22,
   "metadata": {},
   "outputs": [
    {
     "data": {
      "text/html": [
       "<style  type=\"text/css\" >\n",
       "    #T_9d65b354_f410_11e9_9772_24f094f2cd94 th {\n",
       "          font-size: 12pt;\n",
       "    }    #T_9d65b354_f410_11e9_9772_24f094f2cd94row0_col0 {\n",
       "            text-align:  center;\n",
       "            font-size:  115%;\n",
       "            : ;\n",
       "            background:  lightyellow;\n",
       "            color:  green;\n",
       "        }    #T_9d65b354_f410_11e9_9772_24f094f2cd94row0_col1 {\n",
       "            text-align:  center;\n",
       "            font-size:  115%;\n",
       "            : ;\n",
       "            : ;\n",
       "            color:  green;\n",
       "        }    #T_9d65b354_f410_11e9_9772_24f094f2cd94row0_col2 {\n",
       "            text-align:  center;\n",
       "            font-size:  115%;\n",
       "            : ;\n",
       "            : ;\n",
       "            color:  green;\n",
       "        }    #T_9d65b354_f410_11e9_9772_24f094f2cd94row0_col3 {\n",
       "            text-align:  center;\n",
       "            font-size:  115%;\n",
       "            : ;\n",
       "            : ;\n",
       "            color:  green;\n",
       "        }    #T_9d65b354_f410_11e9_9772_24f094f2cd94row0_col4 {\n",
       "            text-align:  center;\n",
       "            font-size:  115%;\n",
       "            : ;\n",
       "            : ;\n",
       "            color:  green;\n",
       "        }    #T_9d65b354_f410_11e9_9772_24f094f2cd94row0_col5 {\n",
       "            text-align:  center;\n",
       "            font-size:  115%;\n",
       "            : ;\n",
       "            background:  lightyellow;\n",
       "            color:  green;\n",
       "        }    #T_9d65b354_f410_11e9_9772_24f094f2cd94row1_col0 {\n",
       "            text-align:  center;\n",
       "            font-size:  115%;\n",
       "            : ;\n",
       "            background:  lightyellow;\n",
       "            color:  green;\n",
       "        }    #T_9d65b354_f410_11e9_9772_24f094f2cd94row1_col1 {\n",
       "            text-align:  center;\n",
       "            font-size:  115%;\n",
       "            : ;\n",
       "            : ;\n",
       "            color:  red;\n",
       "        }    #T_9d65b354_f410_11e9_9772_24f094f2cd94row1_col2 {\n",
       "            text-align:  center;\n",
       "            font-size:  115%;\n",
       "            : ;\n",
       "            : ;\n",
       "            color:  red;\n",
       "        }    #T_9d65b354_f410_11e9_9772_24f094f2cd94row1_col3 {\n",
       "            text-align:  center;\n",
       "            font-size:  115%;\n",
       "            : ;\n",
       "            : ;\n",
       "            color:  green;\n",
       "        }    #T_9d65b354_f410_11e9_9772_24f094f2cd94row1_col4 {\n",
       "            text-align:  center;\n",
       "            font-size:  115%;\n",
       "            : ;\n",
       "            : ;\n",
       "            color:  red;\n",
       "        }    #T_9d65b354_f410_11e9_9772_24f094f2cd94row1_col5 {\n",
       "            text-align:  center;\n",
       "            font-size:  115%;\n",
       "            : ;\n",
       "            background:  lightyellow;\n",
       "            color:  red;\n",
       "        }    #T_9d65b354_f410_11e9_9772_24f094f2cd94row2_col0 {\n",
       "            text-align:  center;\n",
       "            font-size:  115%;\n",
       "            : ;\n",
       "            background:  lightyellow;\n",
       "            color:  red;\n",
       "        }    #T_9d65b354_f410_11e9_9772_24f094f2cd94row2_col1 {\n",
       "            text-align:  center;\n",
       "            font-size:  115%;\n",
       "            : ;\n",
       "            : ;\n",
       "            color:  green;\n",
       "        }    #T_9d65b354_f410_11e9_9772_24f094f2cd94row2_col2 {\n",
       "            text-align:  center;\n",
       "            font-size:  115%;\n",
       "            : ;\n",
       "            : ;\n",
       "            color:  green;\n",
       "        }    #T_9d65b354_f410_11e9_9772_24f094f2cd94row2_col3 {\n",
       "            text-align:  center;\n",
       "            font-size:  115%;\n",
       "            : ;\n",
       "            : ;\n",
       "            color:  red;\n",
       "        }    #T_9d65b354_f410_11e9_9772_24f094f2cd94row2_col4 {\n",
       "            text-align:  center;\n",
       "            font-size:  115%;\n",
       "            : ;\n",
       "            : ;\n",
       "            color:  red;\n",
       "        }    #T_9d65b354_f410_11e9_9772_24f094f2cd94row2_col5 {\n",
       "            text-align:  center;\n",
       "            font-size:  115%;\n",
       "            : ;\n",
       "            background:  lightyellow;\n",
       "            color:  red;\n",
       "        }    #T_9d65b354_f410_11e9_9772_24f094f2cd94row3_col0 {\n",
       "            text-align:  center;\n",
       "            font-size:  115%;\n",
       "            : ;\n",
       "            background:  lightyellow;\n",
       "            color:  red;\n",
       "        }    #T_9d65b354_f410_11e9_9772_24f094f2cd94row3_col1 {\n",
       "            text-align:  center;\n",
       "            font-size:  115%;\n",
       "            : ;\n",
       "            : ;\n",
       "            color:  red;\n",
       "        }    #T_9d65b354_f410_11e9_9772_24f094f2cd94row3_col2 {\n",
       "            text-align:  center;\n",
       "            font-size:  115%;\n",
       "            : ;\n",
       "            : ;\n",
       "            color:  green;\n",
       "        }    #T_9d65b354_f410_11e9_9772_24f094f2cd94row3_col3 {\n",
       "            text-align:  center;\n",
       "            font-size:  115%;\n",
       "            : ;\n",
       "            : ;\n",
       "            color:  green;\n",
       "        }    #T_9d65b354_f410_11e9_9772_24f094f2cd94row3_col4 {\n",
       "            text-align:  center;\n",
       "            font-size:  115%;\n",
       "            : ;\n",
       "            : ;\n",
       "            color:  green;\n",
       "        }    #T_9d65b354_f410_11e9_9772_24f094f2cd94row3_col5 {\n",
       "            text-align:  center;\n",
       "            font-size:  115%;\n",
       "            : ;\n",
       "            background:  lightyellow;\n",
       "            color:  green;\n",
       "        }</style><table id=\"T_9d65b354_f410_11e9_9772_24f094f2cd94\" ><thead>    <tr>        <th class=\"col_heading level0 col0\" >p</th>        <th class=\"col_heading level0 col1\" >q</th>        <th class=\"col_heading level0 col2\" >p => q</th>        <th class=\"col_heading level0 col3\" >q => p</th>        <th class=\"col_heading level0 col4\" >(p => q) and (q => p)</th>        <th class=\"col_heading level0 col5\" >p = q</th>    </tr></thead><tbody>\n",
       "                <tr>\n",
       "                                <td id=\"T_9d65b354_f410_11e9_9772_24f094f2cd94row0_col0\" class=\"data row0 col0\" >True</td>\n",
       "                        <td id=\"T_9d65b354_f410_11e9_9772_24f094f2cd94row0_col1\" class=\"data row0 col1\" >True</td>\n",
       "                        <td id=\"T_9d65b354_f410_11e9_9772_24f094f2cd94row0_col2\" class=\"data row0 col2\" >True</td>\n",
       "                        <td id=\"T_9d65b354_f410_11e9_9772_24f094f2cd94row0_col3\" class=\"data row0 col3\" >True</td>\n",
       "                        <td id=\"T_9d65b354_f410_11e9_9772_24f094f2cd94row0_col4\" class=\"data row0 col4\" >True</td>\n",
       "                        <td id=\"T_9d65b354_f410_11e9_9772_24f094f2cd94row0_col5\" class=\"data row0 col5\" >True</td>\n",
       "            </tr>\n",
       "            <tr>\n",
       "                                <td id=\"T_9d65b354_f410_11e9_9772_24f094f2cd94row1_col0\" class=\"data row1 col0\" >True</td>\n",
       "                        <td id=\"T_9d65b354_f410_11e9_9772_24f094f2cd94row1_col1\" class=\"data row1 col1\" >False</td>\n",
       "                        <td id=\"T_9d65b354_f410_11e9_9772_24f094f2cd94row1_col2\" class=\"data row1 col2\" >False</td>\n",
       "                        <td id=\"T_9d65b354_f410_11e9_9772_24f094f2cd94row1_col3\" class=\"data row1 col3\" >True</td>\n",
       "                        <td id=\"T_9d65b354_f410_11e9_9772_24f094f2cd94row1_col4\" class=\"data row1 col4\" >False</td>\n",
       "                        <td id=\"T_9d65b354_f410_11e9_9772_24f094f2cd94row1_col5\" class=\"data row1 col5\" >False</td>\n",
       "            </tr>\n",
       "            <tr>\n",
       "                                <td id=\"T_9d65b354_f410_11e9_9772_24f094f2cd94row2_col0\" class=\"data row2 col0\" >False</td>\n",
       "                        <td id=\"T_9d65b354_f410_11e9_9772_24f094f2cd94row2_col1\" class=\"data row2 col1\" >True</td>\n",
       "                        <td id=\"T_9d65b354_f410_11e9_9772_24f094f2cd94row2_col2\" class=\"data row2 col2\" >True</td>\n",
       "                        <td id=\"T_9d65b354_f410_11e9_9772_24f094f2cd94row2_col3\" class=\"data row2 col3\" >False</td>\n",
       "                        <td id=\"T_9d65b354_f410_11e9_9772_24f094f2cd94row2_col4\" class=\"data row2 col4\" >False</td>\n",
       "                        <td id=\"T_9d65b354_f410_11e9_9772_24f094f2cd94row2_col5\" class=\"data row2 col5\" >False</td>\n",
       "            </tr>\n",
       "            <tr>\n",
       "                                <td id=\"T_9d65b354_f410_11e9_9772_24f094f2cd94row3_col0\" class=\"data row3 col0\" >False</td>\n",
       "                        <td id=\"T_9d65b354_f410_11e9_9772_24f094f2cd94row3_col1\" class=\"data row3 col1\" >False</td>\n",
       "                        <td id=\"T_9d65b354_f410_11e9_9772_24f094f2cd94row3_col2\" class=\"data row3 col2\" >True</td>\n",
       "                        <td id=\"T_9d65b354_f410_11e9_9772_24f094f2cd94row3_col3\" class=\"data row3 col3\" >True</td>\n",
       "                        <td id=\"T_9d65b354_f410_11e9_9772_24f094f2cd94row3_col4\" class=\"data row3 col4\" >True</td>\n",
       "                        <td id=\"T_9d65b354_f410_11e9_9772_24f094f2cd94row3_col5\" class=\"data row3 col5\" >True</td>\n",
       "            </tr>\n",
       "    </tbody></table>"
      ],
      "text/plain": [
       "<pandas.io.formats.style.Styler at 0x120fb9550>"
      ]
     },
     "execution_count": 22,
     "metadata": {},
     "output_type": "execute_result"
    }
   ],
   "source": [
    "# Highlights para colunas 'p' e 'p = q'\n",
    "df_style(tbl2, hl_cols=['p', 'p = q'])"
   ]
  },
  {
   "cell_type": "code",
   "execution_count": 23,
   "metadata": {},
   "outputs": [
    {
     "ename": "NameError",
     "evalue": "name 'table' is not defined",
     "output_type": "error",
     "traceback": [
      "\u001b[0;31m---------------------------------------------------------------------------\u001b[0m",
      "\u001b[0;31mNameError\u001b[0m                                 Traceback (most recent call last)",
      "\u001b[0;32m<ipython-input-23-41ea2af6fda3>\u001b[0m in \u001b[0;36m<module>\u001b[0;34m\u001b[0m\n\u001b[1;32m      1\u001b[0m \u001b[0;31m# Highlights para linhas e colunas conforme os dois exemplos antecedentes\u001b[0m\u001b[0;34m\u001b[0m\u001b[0;34m\u001b[0m\u001b[0;34m\u001b[0m\u001b[0m\n\u001b[0;32m----> 2\u001b[0;31m \u001b[0mdf_style\u001b[0m\u001b[0;34m(\u001b[0m\u001b[0mtable\u001b[0m\u001b[0;34m,\u001b[0m \u001b[0mhl_rows\u001b[0m \u001b[0;34m=\u001b[0m \u001b[0;34m[\u001b[0m\u001b[0;36m2\u001b[0m\u001b[0;34m,\u001b[0m \u001b[0;36m4\u001b[0m\u001b[0;34m]\u001b[0m\u001b[0;34m,\u001b[0m \u001b[0mhl_cols\u001b[0m\u001b[0;34m=\u001b[0m\u001b[0;34m[\u001b[0m\u001b[0;34m'p'\u001b[0m\u001b[0;34m,\u001b[0m \u001b[0;34m'p = q'\u001b[0m\u001b[0;34m]\u001b[0m\u001b[0;34m)\u001b[0m\u001b[0;34m\u001b[0m\u001b[0;34m\u001b[0m\u001b[0m\n\u001b[0m",
      "\u001b[0;31mNameError\u001b[0m: name 'table' is not defined"
     ]
    }
   ],
   "source": [
    "# Highlights para linhas e colunas conforme os dois exemplos antecedentes\n",
    "df_style(tbl2, hl_rows = [2, 4], hl_cols=['p', 'p = q'])"
   ]
  },
  {
   "cell_type": "markdown",
   "metadata": {},
   "source": [
    "## Exercícios resolvidos "
   ]
  },
  {
   "cell_type": "markdown",
   "metadata": {},
   "source": [
    "**Exercício (Rosen, 5, p. 16).** Considere que $p$ e $q$ são proposições:\n",
    "\n",
    "$p$: Comprei um bilhete de loteria esta semana. \n",
    "\n",
    "$q$: Ganhei a bolada de um milhão de dólares. \n",
    "\n",
    "Construa as seguintes sentenças em português e, em seguida, expresse a tabela-verdade dos casos b) a f). \n",
    "\n",
    "a. $\\neg p$\n",
    "\n",
    "b. $p \\vee q$\n",
    "\n",
    "c. $p \\rightarrow q$\n",
    "\n",
    "d. $p \\wedge q$ \n",
    "\n",
    "e. $p \\leftrightarrow q$ \n",
    "\n",
    "f. $\\neg p \\rightarrow \\neg q$\n",
    "\n",
    "g. $p \\leftrightarrow \\neg q$\n",
    "\n",
    "h. $\\neg p \\wedge (p \\vee \\neg q)$"
   ]
  },
  {
   "cell_type": "markdown",
   "metadata": {},
   "source": [
    "**Resolução.** "
   ]
  },
  {
   "cell_type": "code",
   "execution_count": null,
   "metadata": {},
   "outputs": [],
   "source": [
    "p = 'Comprei um bilhete de loteria esta semana.'; \n",
    "q = 'Ganhei a bolada de um milhão de dólares.' \n",
    "print(p + '\\n' + q)"
   ]
  },
  {
   "cell_type": "markdown",
   "metadata": {},
   "source": [
    "#### a."
   ]
  },
  {
   "cell_type": "code",
   "execution_count": null,
   "metadata": {},
   "outputs": [],
   "source": [
    "neg_p = 'Não c' + p[1:]\n",
    "neg_p"
   ]
  },
  {
   "cell_type": "markdown",
   "metadata": {},
   "source": [
    "#### b."
   ]
  },
  {
   "cell_type": "code",
   "execution_count": null,
   "metadata": {},
   "outputs": [],
   "source": [
    "p_ou_q = p[:-1] + ' ou g' + q[1:]\n",
    "p_ou_q"
   ]
  },
  {
   "cell_type": "code",
   "execution_count": null,
   "metadata": {},
   "outputs": [],
   "source": [
    "# TV \n",
    "tbl_p_ou_q = ttg.Truths(['p','q'],['p or q'],ints=False)\n",
    "tbl_p_ou_q.as_pandas()"
   ]
  },
  {
   "cell_type": "markdown",
   "metadata": {},
   "source": [
    "#### c."
   ]
  },
  {
   "cell_type": "code",
   "execution_count": null,
   "metadata": {},
   "outputs": [],
   "source": [
    "p_impl_q = 'Se c' + p[1:-1] + ', então g' + q[1:]\n",
    "p_impl_q"
   ]
  },
  {
   "cell_type": "code",
   "execution_count": null,
   "metadata": {},
   "outputs": [],
   "source": [
    "# TV \n",
    "tbl_p_impl_q = ttg.Truths(['p','q'],['p => q'],ints=False)\n",
    "tbl_p_impl_q.as_pandas()"
   ]
  },
  {
   "cell_type": "markdown",
   "metadata": {},
   "source": [
    "#### d"
   ]
  },
  {
   "cell_type": "code",
   "execution_count": null,
   "metadata": {},
   "outputs": [],
   "source": [
    "p_e_q = p[:-1] + ' e g' + q[1:]\n",
    "p_e_q"
   ]
  },
  {
   "cell_type": "code",
   "execution_count": null,
   "metadata": {},
   "outputs": [],
   "source": [
    "# TV \n",
    "tbl_p_e_q = ttg.Truths(['p','q'],['p and q'],ints=False)\n",
    "tbl_p_e_q.as_pandas()"
   ]
  },
  {
   "cell_type": "markdown",
   "metadata": {},
   "source": [
    "#### e"
   ]
  },
  {
   "cell_type": "code",
   "execution_count": null,
   "metadata": {},
   "outputs": [],
   "source": [
    "# Razoável?!\n",
    "\n",
    "p_sse_q = p[:-1] + ' se, e somente se, g' + q[1:]\n",
    "p_sse_q"
   ]
  },
  {
   "cell_type": "code",
   "execution_count": null,
   "metadata": {},
   "outputs": [],
   "source": [
    "# TV \n",
    "tbl_p_e_q = ttg.Truths(['p','q'],['p = q'],ints=False)\n",
    "tbl_p_e_q.as_pandas()"
   ]
  },
  {
   "cell_type": "markdown",
   "metadata": {},
   "source": [
    "#### f"
   ]
  },
  {
   "cell_type": "code",
   "execution_count": null,
   "metadata": {},
   "outputs": [],
   "source": [
    "nao_p_impl_nao_q = 'Se não c' + p[1:-1] + ', então não g' + q[1:]\n",
    "nao_p_impl_nao_q"
   ]
  },
  {
   "cell_type": "code",
   "execution_count": null,
   "metadata": {},
   "outputs": [],
   "source": [
    "# TV \n",
    "tbl_nao_p_impl_nao_q = ttg.Truths(['p','q'],['~p', '~q', '~p implies ~q'],ints=False)\n",
    "tbl_nao_p_impl_nao_q.as_pandas()"
   ]
  },
  {
   "cell_type": "markdown",
   "metadata": {},
   "source": [
    "#### g"
   ]
  },
  {
   "cell_type": "code",
   "execution_count": null,
   "metadata": {},
   "outputs": [],
   "source": [
    "nao_p_e_nao_q = 'Não c' + p[1:-1] + ' e não g' + q[1:]\n",
    "nao_p_e_nao_q"
   ]
  },
  {
   "cell_type": "code",
   "execution_count": null,
   "metadata": {},
   "outputs": [],
   "source": [
    "# TV \n",
    "tbl_nao_p_e_nao_q = ttg.Truths(['p','q'],['~p', '~q', '~p and ~q'],ints=False)\n",
    "tbl_nao_p_e_nao_q.as_pandas()"
   ]
  },
  {
   "cell_type": "markdown",
   "metadata": {},
   "source": [
    "#### h "
   ]
  },
  {
   "cell_type": "code",
   "execution_count": null,
   "metadata": {},
   "outputs": [],
   "source": [
    "nao_p__ou__p_e_q = 'Não c' + p[1:-1] + ', ou o comprei esta semana mas não g' + q[1:]\n",
    "nao_p__ou__p_e_q"
   ]
  },
  {
   "cell_type": "code",
   "execution_count": null,
   "metadata": {},
   "outputs": [],
   "source": [
    "# TV \n",
    "tbl_nao_p__ou__p_e_q = ttg.Truths(['p','q'],['~p', 'p and q','~p or (p and q)',],ints=False)\n",
    "tbl_nao_p__ou__p_e_q.as_pandas()"
   ]
  },
  {
   "cell_type": "markdown",
   "metadata": {},
   "source": [
    "## Agradecimentos  \n",
    "\n",
    "F. L. S. Bustamante, truth-table-generator - generating truth tables., 2019 - Dispnível em: https://github.com/chicolucio/truth-table-generator"
   ]
  }
 ],
 "metadata": {
  "kernelspec": {
   "display_name": "Python 3",
   "language": "python",
   "name": "python3"
  },
  "language_info": {
   "codemirror_mode": {
    "name": "ipython",
    "version": 3
   },
   "file_extension": ".py",
   "mimetype": "text/x-python",
   "name": "python",
   "nbconvert_exporter": "python",
   "pygments_lexer": "ipython3",
   "version": "3.7.3"
  }
 },
 "nbformat": 4,
 "nbformat_minor": 2
}
