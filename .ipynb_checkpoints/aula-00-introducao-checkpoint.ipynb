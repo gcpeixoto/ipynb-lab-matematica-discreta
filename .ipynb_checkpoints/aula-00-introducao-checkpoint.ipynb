{
 "cells": [
  {
   "cell_type": "markdown",
   "metadata": {},
   "source": [
    "# Aula 00 - Introdução à Matemática Discreta \n",
    "\n",
    "\n",
    "\n",
    "## Motivação \n",
    "\n",
    "Considere o seguinte problema: \n",
    "\n",
    "Túlio é um jovem que gosta de comer pizza. Ele então pega seu aplicativo preferido de _delivery_ e pede uma pizza de calabresa da pizzaria Tutta Massa que fica no mesmo bairro onde mora a poucos quarteirões de sua casa. O mapa da figura abaixo mostra que a pizzaria está localizada no ponto $P$ e a residência de Túlio no ponto $T$. Considerando que para chegar até a casa de Túlio o entregador se desloque apenas nas direções norte ou leste, quantos caminhos possíveis o entregador pode percorrer? "
   ]
  },
  {
   "cell_type": "markdown",
   "metadata": {},
   "source": [
    "<img src=\"fig1.png\" height=\"400\" width=\"800\">"
   ]
  },
  {
   "cell_type": "markdown",
   "metadata": {},
   "source": [
    "## Modelagem do problema \n",
    "\n",
    "Considere o ponto $P$ como a origem de um plano cartesiano $(0,0)$. Para ir de $P$ até $T$, o entregador deve se deslocar por até 4 quarteirões para leste (L) e até 3 quarteirões para norte (N). Ou seja, ele no máximo terá se deslocado por 4 + 3 = 7 quarteirões. Mas isso é o mesmo que procurar todos os caminhos possíveis do ponto $(0,0)$ até o ponto $(4,7)$ seguindo as restrições de deslocamento (como veremos mais à frente, o plano cartesiano aqui é formado pelo produto cartesiano $\\mathbb{Z^{+}} \\times \\mathbb{Z^{+}}$). Um dos caminhos possíveis, por exemplo, seria $\\{L,L,L,L,N,N,N\\}$. \n",
    "\n",
    "Antes de passarmos a parte matemática, faça um exercício e tente escrever manualmente todos os caminhos possíveis. Você consegue determinar qual deles seria o mais próximo? \n",
    "\n",
    "Bem, como resolver? \n",
    "\n",
    "Este problema pertence ao domínio da _Análise Combinatória_. Especificamente, é um problema de _permutações com repetição_. Matematicamente, o número de caminhos será dado por: \n",
    "\n",
    "$$P_{n}^{n_1,n_2} = \\frac{n!}{n_1!n_2!},$$\n",
    "\n",
    "onde $n$ é o número total de passos, $n_1$ o número máximo de passos na direção $L$ e $n_2$ o número máximo de passos na direção $N$. \n",
    "\n",
    "\n",
    "### Resolvendo o problema de modo matemático\n",
    "\n",
    "Fazendo $n = 7$, $n_1 = 4$ e $n_2 = 3$, chegamos a: \n",
    "\n",
    "$$P_{7}^{4,3} = \\frac{7!}{4!3!} = \\frac{7.6.5.4!}{4!3.2} = \\frac{7.6.5}{6} = 35$$\n",
    "\n",
    "\n",
    "OK, mas eu não sei (ou não me recordo) o que significa esse ponto de exclamação aí na conta... \n",
    "\n",
    "Este é o _fatorial_ de um número inteiro. O fatorial de um inteiro $n$ é dado por: \n",
    "\n",
    "$$n! = n(n-1)(n-2)...(n-p)1$$ \n",
    "\n",
    "Ou ainda, como você aprenderá, podemos representar esta operação com a seguinte notação:\n",
    "\n",
    "$$n! = \\prod_{k=1}^n k$$\n"
   ]
  },
  {
   "cell_type": "markdown",
   "metadata": {},
   "source": [
    "### Resolvendo o problema de modo computacional \n",
    "\n",
    "Para resolver este pequeno problema, precisamos ensinar o computador a calcular o fatorial de um número inteiro e depois calcular a permutação. Note que, a bem da verdade, o computador teria que aprender a fazer coisas mais básicas, tais como multiplicar e dividir. Porém, vamos aproveitar o fato de que ele já sabe fazer operações elementares e usar a linguagem Python para escrevermos um programa computacional para resolver este problema. Em resumo, temos que fazer duas coisas: \n",
    "\n",
    "1. Escrever uma _função_ que calculará o fatorial de um número inteiro\n",
    "2. Escrever uma segunda função que calculará a permutação \n",
    "\n"
   ]
  },
  {
   "cell_type": "markdown",
   "metadata": {},
   "source": [
    "### Passo 1: calculando o fatorial \n",
    "\n",
    "A primeira função pode ser desenvolvida através da ideia de _recursão_ (vamos aprender isso mais adiante no curso). O código é mais ou menos da forma a seguir:"
   ]
  },
  {
   "cell_type": "code",
   "execution_count": 1,
   "metadata": {},
   "outputs": [],
   "source": [
    "\"\"\"\n",
    "Função que calcula o fatorial de um número.\n",
    "O valor n deve ser um número inteiro positivo.\n",
    "\"\"\"\n",
    "def fatorial(n):\n",
    "    if n == 0:\n",
    "        return 1 # 0! = 1\n",
    "    else:\n",
    "        return n*fatorial(n-1)"
   ]
  },
  {
   "cell_type": "markdown",
   "metadata": {},
   "source": [
    "O código acima possui uma instrução _condicional_. Uma vez que, por definição, $0! = 1$, a primeira declaração _if_ (\"se\"), trata deste caso particular. A declaração _else_ (\"senão\"), utiliza a própria função para calcular os novos produtos. Vamos fazer uns testes. "
   ]
  },
  {
   "cell_type": "code",
   "execution_count": 2,
   "metadata": {},
   "outputs": [
    {
     "data": {
      "text/plain": [
       "1"
      ]
     },
     "execution_count": 2,
     "metadata": {},
     "output_type": "execute_result"
    }
   ],
   "source": [
    "fatorial(0)"
   ]
  },
  {
   "cell_type": "code",
   "execution_count": 3,
   "metadata": {},
   "outputs": [
    {
     "data": {
      "text/plain": [
       "1"
      ]
     },
     "execution_count": 3,
     "metadata": {},
     "output_type": "execute_result"
    }
   ],
   "source": [
    "fatorial(1)"
   ]
  },
  {
   "cell_type": "code",
   "execution_count": 4,
   "metadata": {},
   "outputs": [
    {
     "data": {
      "text/plain": [
       "2"
      ]
     },
     "execution_count": 4,
     "metadata": {},
     "output_type": "execute_result"
    }
   ],
   "source": [
    "fatorial(2)"
   ]
  },
  {
   "cell_type": "code",
   "execution_count": 5,
   "metadata": {},
   "outputs": [
    {
     "data": {
      "text/plain": [
       "6"
      ]
     },
     "execution_count": 5,
     "metadata": {},
     "output_type": "execute_result"
    }
   ],
   "source": [
    "fatorial(3)"
   ]
  },
  {
   "cell_type": "code",
   "execution_count": 6,
   "metadata": {},
   "outputs": [
    {
     "data": {
      "text/plain": [
       "120"
      ]
     },
     "execution_count": 6,
     "metadata": {},
     "output_type": "execute_result"
    }
   ],
   "source": [
    "fatorial(5)"
   ]
  },
  {
   "cell_type": "code",
   "execution_count": 7,
   "metadata": {},
   "outputs": [
    {
     "data": {
      "text/plain": [
       "40320"
      ]
     },
     "execution_count": 7,
     "metadata": {},
     "output_type": "execute_result"
    }
   ],
   "source": [
    "fatorial(8)"
   ]
  },
  {
   "cell_type": "markdown",
   "metadata": {},
   "source": [
    "Hmmm... Parece que o código está fazendo sentido. Vamos verificar se os valores de 5! e 8! estão corretos."
   ]
  },
  {
   "cell_type": "code",
   "execution_count": 8,
   "metadata": {},
   "outputs": [
    {
     "data": {
      "text/plain": [
       "120"
      ]
     },
     "execution_count": 8,
     "metadata": {},
     "output_type": "execute_result"
    }
   ],
   "source": [
    "5*4*3*2*1"
   ]
  },
  {
   "cell_type": "code",
   "execution_count": 9,
   "metadata": {},
   "outputs": [
    {
     "data": {
      "text/plain": [
       "40320"
      ]
     },
     "execution_count": 9,
     "metadata": {},
     "output_type": "execute_result"
    }
   ],
   "source": [
    "8*7*6*5*4*3*2*1"
   ]
  },
  {
   "cell_type": "markdown",
   "metadata": {},
   "source": [
    "Ótimo! Parece que está funcionando legal! Pois é... mas o nosso código ainda não está \"perfeito\" para o computador. Por quê? O que aconteceria se $n = 3.2$?"
   ]
  },
  {
   "cell_type": "code",
   "execution_count": 10,
   "metadata": {},
   "outputs": [
    {
     "ename": "RecursionError",
     "evalue": "maximum recursion depth exceeded in comparison",
     "output_type": "error",
     "traceback": [
      "\u001b[0;31m---------------------------------------------------------------------------\u001b[0m",
      "\u001b[0;31mRecursionError\u001b[0m                            Traceback (most recent call last)",
      "\u001b[0;32m<ipython-input-10-afad35a24d71>\u001b[0m in \u001b[0;36m<module>\u001b[0;34m\u001b[0m\n\u001b[0;32m----> 1\u001b[0;31m \u001b[0mfatorial\u001b[0m\u001b[0;34m(\u001b[0m\u001b[0;36m3.2\u001b[0m\u001b[0;34m)\u001b[0m\u001b[0;34m\u001b[0m\u001b[0;34m\u001b[0m\u001b[0m\n\u001b[0m",
      "\u001b[0;32m<ipython-input-1-2ae59bd99aa5>\u001b[0m in \u001b[0;36mfatorial\u001b[0;34m(n)\u001b[0m\n\u001b[1;32m      7\u001b[0m         \u001b[0;32mreturn\u001b[0m \u001b[0;36m1\u001b[0m \u001b[0;31m# 0! = 1\u001b[0m\u001b[0;34m\u001b[0m\u001b[0;34m\u001b[0m\u001b[0m\n\u001b[1;32m      8\u001b[0m     \u001b[0;32melse\u001b[0m\u001b[0;34m:\u001b[0m\u001b[0;34m\u001b[0m\u001b[0;34m\u001b[0m\u001b[0m\n\u001b[0;32m----> 9\u001b[0;31m         \u001b[0;32mreturn\u001b[0m \u001b[0mn\u001b[0m\u001b[0;34m*\u001b[0m\u001b[0mfatorial\u001b[0m\u001b[0;34m(\u001b[0m\u001b[0mn\u001b[0m\u001b[0;34m-\u001b[0m\u001b[0;36m1\u001b[0m\u001b[0;34m)\u001b[0m\u001b[0;34m\u001b[0m\u001b[0;34m\u001b[0m\u001b[0m\n\u001b[0m",
      "... last 1 frames repeated, from the frame below ...\n",
      "\u001b[0;32m<ipython-input-1-2ae59bd99aa5>\u001b[0m in \u001b[0;36mfatorial\u001b[0;34m(n)\u001b[0m\n\u001b[1;32m      7\u001b[0m         \u001b[0;32mreturn\u001b[0m \u001b[0;36m1\u001b[0m \u001b[0;31m# 0! = 1\u001b[0m\u001b[0;34m\u001b[0m\u001b[0;34m\u001b[0m\u001b[0m\n\u001b[1;32m      8\u001b[0m     \u001b[0;32melse\u001b[0m\u001b[0;34m:\u001b[0m\u001b[0;34m\u001b[0m\u001b[0;34m\u001b[0m\u001b[0m\n\u001b[0;32m----> 9\u001b[0;31m         \u001b[0;32mreturn\u001b[0m \u001b[0mn\u001b[0m\u001b[0;34m*\u001b[0m\u001b[0mfatorial\u001b[0m\u001b[0;34m(\u001b[0m\u001b[0mn\u001b[0m\u001b[0;34m-\u001b[0m\u001b[0;36m1\u001b[0m\u001b[0;34m)\u001b[0m\u001b[0;34m\u001b[0m\u001b[0;34m\u001b[0m\u001b[0m\n\u001b[0m",
      "\u001b[0;31mRecursionError\u001b[0m: maximum recursion depth exceeded in comparison"
     ]
    }
   ],
   "source": [
    "fatorial(3.2)"
   ]
  },
  {
   "cell_type": "markdown",
   "metadata": {},
   "source": [
    "Opsss... Temos um erro aí... Por que isso aconteceu? Porque 3.2 não é um número inteiro! E como verificamos isso em Python? Podemos usar a função `type`. Veja:"
   ]
  },
  {
   "cell_type": "code",
   "execution_count": 11,
   "metadata": {},
   "outputs": [
    {
     "data": {
      "text/plain": [
       "float"
      ]
     },
     "execution_count": 11,
     "metadata": {},
     "output_type": "execute_result"
    }
   ],
   "source": [
    "type(3.2)"
   ]
  },
  {
   "cell_type": "markdown",
   "metadata": {},
   "source": [
    "Ou seja, 3.2 é um número cujo _tipo de dado_ é `float` (ponto flutuante). Por outro lado, veja:"
   ]
  },
  {
   "cell_type": "code",
   "execution_count": 12,
   "metadata": {},
   "outputs": [
    {
     "data": {
      "text/plain": [
       "int"
      ]
     },
     "execution_count": 12,
     "metadata": {},
     "output_type": "execute_result"
    }
   ],
   "source": [
    "type(3)"
   ]
  },
  {
   "cell_type": "markdown",
   "metadata": {},
   "source": [
    "Ou seja, 3 é um número cujo tipo de dado é `int` (inteiro). Aí sim! Este número pode ser usado em nossa função `fatorial`, como testamos acima. Por enquanto, vamos deixar em aberto esse probleminha com a nossa função e transferir essa discussão para o seu curso de _Estrutura de Dados_.\n",
    "\n",
    "Voltemos ao segundo passo do projeto..."
   ]
  },
  {
   "cell_type": "markdown",
   "metadata": {},
   "source": [
    "### Passo 2: calculando a permutação\n",
    "\n",
    "Para calcular a permutação com repetição que aprendemos, precisamos criar uma função que possua 3 _argumentos_: os inteiros $n$, $n_1$ e $n_2$. Isto pode ser feito mais ou menos assim: "
   ]
  },
  {
   "cell_type": "code",
   "execution_count": 13,
   "metadata": {},
   "outputs": [],
   "source": [
    "\"\"\"\n",
    "Calcula o número de permutações com repetição\n",
    "de n elementos dos quais n1 e n2 se repetem\n",
    "\"\"\"\n",
    "def permutacao_repeticao(n,n1,n2):\n",
    "    return fatorial(n) / ( fatorial(n1)*fatorial(n2) )"
   ]
  },
  {
   "cell_type": "markdown",
   "metadata": {},
   "source": [
    "Vamos testar? "
   ]
  },
  {
   "cell_type": "code",
   "execution_count": 14,
   "metadata": {},
   "outputs": [
    {
     "data": {
      "text/plain": [
       "35.0"
      ]
     },
     "execution_count": 14,
     "metadata": {},
     "output_type": "execute_result"
    }
   ],
   "source": [
    "permutacao_repeticao(7,4,3)"
   ]
  },
  {
   "cell_type": "markdown",
   "metadata": {},
   "source": [
    "Interessante, certo? Parece tudo OK. Ah, mas temos um pequeníssimo detalhe ainda... 35.0 é um número inteiro para o computador?? Sabemos que não (verifique). Então, o que aconteceu? \n",
    "\n",
    "Note que ao fazermos `fatorial(n) / ( fatorial(n1)*fatorial(n2) )`, o computador usou a divisão `/`, a qual produz um resultado do tipo `float` (em Python 3). Para corrigir este ponto, podemos usar um operador de _divisão inteira_"
   ]
  },
  {
   "cell_type": "code",
   "execution_count": 15,
   "metadata": {},
   "outputs": [],
   "source": [
    "\"\"\"\n",
    "Calcula o número de permutações com repetição\n",
    "de n elementos dos quais n1 e n2 se repetem\n",
    "com operador de divisão inteira\n",
    "\"\"\"\n",
    "def permutacao_repeticao(n,n1,n2):\n",
    "    return fatorial(n) // ( fatorial(n1)*fatorial(n2) )"
   ]
  },
  {
   "cell_type": "markdown",
   "metadata": {},
   "source": [
    "Vamos testar de novo?"
   ]
  },
  {
   "cell_type": "code",
   "execution_count": 16,
   "metadata": {},
   "outputs": [
    {
     "data": {
      "text/plain": [
       "35"
      ]
     },
     "execution_count": 16,
     "metadata": {},
     "output_type": "execute_result"
    }
   ],
   "source": [
    "permutacao_repeticao(7,4,3)"
   ]
  },
  {
   "cell_type": "markdown",
   "metadata": {},
   "source": [
    "Agora sim! Temos um resultado inteiro. E se mudarmos os valores de $n_1$ e $n_2$, haverá diferença?  "
   ]
  },
  {
   "cell_type": "code",
   "execution_count": 17,
   "metadata": {},
   "outputs": [
    {
     "data": {
      "text/plain": [
       "35"
      ]
     },
     "execution_count": 17,
     "metadata": {},
     "output_type": "execute_result"
    }
   ],
   "source": [
    "permutacao_repeticao(7,3,4)"
   ]
  },
  {
   "cell_type": "markdown",
   "metadata": {},
   "source": [
    "Não há. Você sabe explicar o porquê?"
   ]
  },
  {
   "cell_type": "markdown",
   "metadata": {},
   "source": [
    "### A solução \"mais fácil\"\n",
    "\n",
    "Graças a vários desenvolvedores e programadores, muitas coisas já estão prontas para nosso uso. Em Python, podemos calcular o fatorial de um número inteiro diretamente através da biblioteca de matemática usando a função `factorial`. Para isso, devemos fazer o seguinte."
   ]
  },
  {
   "cell_type": "code",
   "execution_count": 18,
   "metadata": {},
   "outputs": [],
   "source": [
    "from math import factorial "
   ]
  },
  {
   "cell_type": "markdown",
   "metadata": {},
   "source": [
    "A linha de código acima diz, literalmente: \"importe a função `factorial` do módulo `math`\". Valendo-se disto, podemos reescrever a nossa função de permutação da seguinte forma: "
   ]
  },
  {
   "cell_type": "code",
   "execution_count": 19,
   "metadata": {},
   "outputs": [],
   "source": [
    "\"\"\"\n",
    "Calcula o número de permutações com repetição\n",
    "de n elementos dos quais n1 e n2 se repetem\n",
    "com operador de divisão inteira e math.factorial\n",
    "\"\"\"\n",
    "\n",
    "from math import factorial\n",
    "\n",
    "def permutacao_repeticao(n,n1,n2):\n",
    "    return factorial(n) // ( factorial(n1)*factorial(n2) )"
   ]
  },
  {
   "cell_type": "markdown",
   "metadata": {},
   "source": [
    "Já aprendemos bastante coisa até aqui. Vamos prosseguir com um passo a mais e \"generalizar\" um pouco o que implementamos. "
   ]
  },
  {
   "cell_type": "markdown",
   "metadata": {},
   "source": [
    "## O problema genérico\n",
    "\n",
    "O problema acima torna-se mais genérico quando impomos mais \"opções\". Então, se estendêssemos o número de direções,  poderiamos montar o problema como: \n",
    "\n",
    "$$P_{n}^{n_1,n_2,\\ldots,n_f} = \\frac{n!}{n_1!n_2!\\ldots n_f!}.$$\n",
    "\n"
   ]
  },
  {
   "cell_type": "markdown",
   "metadata": {},
   "source": [
    "Valendo-se da função importada `factorial`, podemos criar uma nova função da seguinte forma: "
   ]
  },
  {
   "cell_type": "code",
   "execution_count": 20,
   "metadata": {},
   "outputs": [],
   "source": [
    "\"\"\"\n",
    "Calcula o número de permutações com repetição\n",
    "de n elementos dos quais N = [n1,n2,...,nf] se repetem\n",
    "com operador de divisão inteira, math.factorial e\n",
    "numpy.prod\n",
    "\"\"\"\n",
    "from math import factorial\n",
    "from numpy import prod\n",
    "\n",
    "def permutacao_repeticao_generalizada(n,N):\n",
    "    f = [factorial(i) for i in N]\n",
    "    p = factorial(n) // prod(f)\n",
    "    return p"
   ]
  },
  {
   "cell_type": "markdown",
   "metadata": {},
   "source": [
    "Na função acima, generalizamos os elementos de repetição através de um tipo de dado `list` e computamos o denominador como um produto dos `n` elementos em `N`. Por exemplo:"
   ]
  },
  {
   "cell_type": "code",
   "execution_count": 21,
   "metadata": {},
   "outputs": [
    {
     "data": {
      "text/plain": [
       "60"
      ]
     },
     "execution_count": 21,
     "metadata": {},
     "output_type": "execute_result"
    }
   ],
   "source": [
    "N = [3,2,1]\n",
    "permutacao_repeticao_generalizada(6,N)"
   ]
  },
  {
   "cell_type": "markdown",
   "metadata": {},
   "source": [
    "## Resumo\n",
    "\n",
    "Nesta aula de motivação, aprendemos um pouco sobre várias coisas: combinatória, fatorial, divisão inteira, produtório, etc. Veja quanta coisa! E tudo é Matemática Discreta."
   ]
  },
  {
   "cell_type": "markdown",
   "metadata": {},
   "source": [
    "## Tarefa \n",
    "\n",
    "Estude o código genérico. Qual imposição devemos ter para o número de elementos de $N$. Será que precisamos de 2 argumentos para construir a função generalizada? Pense um pouco e tente resolver os problemas apontados aqui quando você estiver dominando a programação."
   ]
  }
 ],
 "metadata": {
  "kernelspec": {
   "display_name": "Python 3",
   "language": "python",
   "name": "python3"
  },
  "language_info": {
   "codemirror_mode": {
    "name": "ipython",
    "version": 3
   },
   "file_extension": ".py",
   "mimetype": "text/x-python",
   "name": "python",
   "nbconvert_exporter": "python",
   "pygments_lexer": "ipython3",
   "version": "3.7.3"
  }
 },
 "nbformat": 4,
 "nbformat_minor": 2
}
